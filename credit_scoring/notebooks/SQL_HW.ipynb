{
 "cells": [
  {
   "cell_type": "code",
   "execution_count": 1,
   "metadata": {
    "collapsed": true
   },
   "outputs": [],
   "source": [
    "import sys\n",
    "\n",
    "sys.path.append(r\"C:\\Users\\user\\Desktop\\SHIFT\\credit_scoring\")"
   ]
  },
  {
   "cell_type": "code",
   "execution_count": 2,
   "outputs": [],
   "source": [
    "from credit_scoring.src.app.utils import postgres_connector\n",
    "from credit_scoring.src.config import config_file"
   ],
   "metadata": {
    "collapsed": false
   }
  },
  {
   "cell_type": "code",
   "execution_count": 3,
   "outputs": [],
   "source": [
    "data_full_path = config_file.DATA_FULL_PATH\n",
    "db_args = config_file.DB_ARGS"
   ],
   "metadata": {
    "collapsed": false
   }
  },
  {
   "cell_type": "code",
   "execution_count": 4,
   "outputs": [],
   "source": [
    "sql_connecter = postgres_connector.PostgreSqlConnector(db_args)"
   ],
   "metadata": {
    "collapsed": false
   }
  },
  {
   "cell_type": "markdown",
   "source": [
    "Давайте попробуем использовать коннектер\n",
    "\n",
    "Импортируем bureau"
   ],
   "metadata": {
    "collapsed": false
   }
  },
  {
   "cell_type": "code",
   "execution_count": 5,
   "outputs": [],
   "source": [
    "sql_schema_query = \"\"\"\n",
    "    DROP TABLE IF EXISTS bureau;\n",
    "    CREATE TABLE bureau(\n",
    "      SK_ID_CURR integer,\n",
    "      SK_ID_BUREAU integer,\n",
    "      CREDIT_ACTIVE varchar(13),\n",
    "      CREDIT_CURRENCY varchar(15),\n",
    "      DAYS_CREDIT smallint,\n",
    "      CREDIT_DAY_OVERDUE smallint,\n",
    "      DAYS_CREDIT_ENDDATE real,\n",
    "      DAYS_ENDDATE_FACT real,\n",
    "      AMT_CREDIT_MAX_OVERDUE real,\n",
    "      CNT_CREDIT_PROLONG smallint,\n",
    "      AMT_CREDIT_SUM real,\n",
    "      AMT_CREDIT_SUM_DEBT real,\n",
    "      AMT_CREDIT_SUM_LIMIT real,\n",
    "      AMT_CREDIT_SUM_OVERDUE real,\n",
    "      CREDIT_TYPE varchar(49),\n",
    "      DAYS_CREDIT_UPDATE integer,\n",
    "      AMT_ANNUITY  real)\n",
    "\"\"\""
   ],
   "metadata": {
    "collapsed": false
   }
  },
  {
   "cell_type": "code",
   "execution_count": 6,
   "outputs": [
    {
     "name": "stdout",
     "output_type": "stream",
     "text": [
      "CPU times: total: 0 ns\n",
      "Wall time: 103 ms\n"
     ]
    }
   ],
   "source": [
    "%%time\n",
    "sql_connecter.send_sql_query(sql_schema_query)"
   ],
   "metadata": {
    "collapsed": false
   }
  },
  {
   "cell_type": "markdown",
   "source": [
    "Теперь \"зальем\" данные."
   ],
   "metadata": {
    "collapsed": false
   }
  },
  {
   "cell_type": "code",
   "execution_count": 7,
   "outputs": [],
   "source": [
    "sql_data_query = f\"\"\"\n",
    "COPY bureau(\n",
    "  SK_ID_CURR,\n",
    "  SK_ID_BUREAU,\n",
    "  CREDIT_ACTIVE,\n",
    "  CREDIT_CURRENCY,\n",
    "  DAYS_CREDIT,\n",
    "  CREDIT_DAY_OVERDUE,\n",
    "  DAYS_CREDIT_ENDDATE,\n",
    "  DAYS_ENDDATE_FACT,\n",
    "  AMT_CREDIT_MAX_OVERDUE,\n",
    "  CNT_CREDIT_PROLONG,\n",
    "  AMT_CREDIT_SUM,\n",
    "  AMT_CREDIT_SUM_DEBT,\n",
    "  AMT_CREDIT_SUM_LIMIT,\n",
    "  AMT_CREDIT_SUM_OVERDUE,\n",
    "  CREDIT_TYPE,\n",
    "  DAYS_CREDIT_UPDATE,\n",
    "  AMT_ANNUITY\n",
    ")\n",
    "FROM '{data_full_path}bureau.csv' DELIMITER ',' CSV HEADER;\n",
    "\"\"\""
   ],
   "metadata": {
    "collapsed": false
   }
  },
  {
   "cell_type": "code",
   "execution_count": 8,
   "outputs": [
    {
     "name": "stdout",
     "output_type": "stream",
     "text": [
      "CPU times: total: 0 ns\n",
      "Wall time: 6.01 s\n"
     ]
    }
   ],
   "source": [
    "%%time\n",
    "sql_connecter.send_sql_query(sql_data_query)"
   ],
   "metadata": {
    "collapsed": false
   }
  },
  {
   "cell_type": "markdown",
   "source": [
    "Выведем залитые данные"
   ],
   "metadata": {
    "collapsed": false
   }
  },
  {
   "cell_type": "code",
   "execution_count": 9,
   "outputs": [
    {
     "name": "stderr",
     "output_type": "stream",
     "text": [
      "C:\\Users\\user\\Desktop\\SHIFT\\credit_scoring\\src\\app\\utils\\postgres_connector.py:38: UserWarning: pandas only supports SQLAlchemy connectable (engine/connection) or database string URI or sqlite3 DBAPI2 connection. Other DBAPI2 objects are not tested. Please consider using SQLAlchemy.\n",
      "  df = pd.read_sql(query, conn)\n"
     ]
    },
    {
     "data": {
      "text/plain": "   sk_id_curr  sk_id_bureau credit_active credit_currency  days_credit  \\\n0      215354       5714462        Closed      currency 1         -497   \n1      215354       5714463        Active      currency 1         -208   \n2      215354       5714464        Active      currency 1         -203   \n\n   credit_day_overdue  days_credit_enddate  days_enddate_fact  \\\n0                   0               -153.0             -153.0   \n1                   0               1075.0                NaN   \n2                   0                528.0                NaN   \n\n  amt_credit_max_overdue  cnt_credit_prolong  amt_credit_sum  \\\n0                   None                   0         91323.0   \n1                   None                   0        225000.0   \n2                   None                   0        464323.5   \n\n   amt_credit_sum_debt amt_credit_sum_limit  amt_credit_sum_overdue  \\\n0                  0.0                 None                     0.0   \n1             171342.0                 None                     0.0   \n2                  NaN                 None                     0.0   \n\n       credit_type  days_credit_update amt_annuity  \n0  Consumer credit                -131        None  \n1      Credit card                 -20        None  \n2  Consumer credit                 -16        None  ",
      "text/html": "<div>\n<style scoped>\n    .dataframe tbody tr th:only-of-type {\n        vertical-align: middle;\n    }\n\n    .dataframe tbody tr th {\n        vertical-align: top;\n    }\n\n    .dataframe thead th {\n        text-align: right;\n    }\n</style>\n<table border=\"1\" class=\"dataframe\">\n  <thead>\n    <tr style=\"text-align: right;\">\n      <th></th>\n      <th>sk_id_curr</th>\n      <th>sk_id_bureau</th>\n      <th>credit_active</th>\n      <th>credit_currency</th>\n      <th>days_credit</th>\n      <th>credit_day_overdue</th>\n      <th>days_credit_enddate</th>\n      <th>days_enddate_fact</th>\n      <th>amt_credit_max_overdue</th>\n      <th>cnt_credit_prolong</th>\n      <th>amt_credit_sum</th>\n      <th>amt_credit_sum_debt</th>\n      <th>amt_credit_sum_limit</th>\n      <th>amt_credit_sum_overdue</th>\n      <th>credit_type</th>\n      <th>days_credit_update</th>\n      <th>amt_annuity</th>\n    </tr>\n  </thead>\n  <tbody>\n    <tr>\n      <th>0</th>\n      <td>215354</td>\n      <td>5714462</td>\n      <td>Closed</td>\n      <td>currency 1</td>\n      <td>-497</td>\n      <td>0</td>\n      <td>-153.0</td>\n      <td>-153.0</td>\n      <td>None</td>\n      <td>0</td>\n      <td>91323.0</td>\n      <td>0.0</td>\n      <td>None</td>\n      <td>0.0</td>\n      <td>Consumer credit</td>\n      <td>-131</td>\n      <td>None</td>\n    </tr>\n    <tr>\n      <th>1</th>\n      <td>215354</td>\n      <td>5714463</td>\n      <td>Active</td>\n      <td>currency 1</td>\n      <td>-208</td>\n      <td>0</td>\n      <td>1075.0</td>\n      <td>NaN</td>\n      <td>None</td>\n      <td>0</td>\n      <td>225000.0</td>\n      <td>171342.0</td>\n      <td>None</td>\n      <td>0.0</td>\n      <td>Credit card</td>\n      <td>-20</td>\n      <td>None</td>\n    </tr>\n    <tr>\n      <th>2</th>\n      <td>215354</td>\n      <td>5714464</td>\n      <td>Active</td>\n      <td>currency 1</td>\n      <td>-203</td>\n      <td>0</td>\n      <td>528.0</td>\n      <td>NaN</td>\n      <td>None</td>\n      <td>0</td>\n      <td>464323.5</td>\n      <td>NaN</td>\n      <td>None</td>\n      <td>0.0</td>\n      <td>Consumer credit</td>\n      <td>-16</td>\n      <td>None</td>\n    </tr>\n  </tbody>\n</table>\n</div>"
     },
     "execution_count": 9,
     "metadata": {},
     "output_type": "execute_result"
    }
   ],
   "source": [
    "test_sql = '''\n",
    "SELECT * FROM bureau\n",
    "LIMIT 3\n",
    "'''\n",
    "sql_connecter.get_df_from_query(test_sql)"
   ],
   "metadata": {
    "collapsed": false
   }
  },
  {
   "cell_type": "markdown",
   "source": [
    "Создадим объединённую таблицу"
   ],
   "metadata": {
    "collapsed": false
   }
  },
  {
   "cell_type": "code",
   "execution_count": 10,
   "outputs": [],
   "source": [
    "sql_schema_query = \"\"\"\n",
    "    DROP TABLE IF EXISTS train_test_data;\n",
    "    CREATE TABLE public.train_test_data(\n",
    "        SK_ID_CURR integer,\n",
    "        NAME_CONTRACT_TYPE varchar(15),\n",
    "        CODE_GENDER varchar(3),\n",
    "        FLAG_OWN_CAR varchar(1),\n",
    "        FLAG_OWN_REALTY varchar(1),\n",
    "        CNT_CHILDREN integer,\n",
    "        AMT_INCOME_TOTAL double precision,\n",
    "        AMT_CREDIT double precision,\n",
    "        AMT_ANNUITY double precision,\n",
    "        AMT_GOODS_PRICE double precision,\n",
    "        NAME_TYPE_SUITE varchar(15),\n",
    "        NAME_INCOME_TYPE varchar(20),\n",
    "        NAME_EDUCATION_TYPE varchar(29),\n",
    "        NAME_FAMILY_STATUS varchar(20),\n",
    "        NAME_HOUSING_TYPE varchar(19),\n",
    "        REGION_POPULATION_RELATIVE double precision,\n",
    "        DAYS_BIRTH integer,\n",
    "        DAYS_EMPLOYED integer,\n",
    "        DAYS_REGISTRATION double precision,\n",
    "        DAYS_ID_PUBLISH integer,\n",
    "        OWN_CAR_AGE real,\n",
    "        FLAG_MOBIL smallint,\n",
    "        FLAG_EMP_PHONE smallint,\n",
    "        FLAG_WORK_PHONE smallint,\n",
    "        FLAG_CONT_MOBILE smallint,\n",
    "        FLAG_PHONE smallint,\n",
    "        FLAG_EMAIL smallint,\n",
    "        OCCUPATION_TYPE varchar(30),\n",
    "        CNT_FAM_MEMBERS real,\n",
    "        REGION_RATING_CLIENT smallint,\n",
    "        REGION_RATING_CLIENT_W_CITY integer,\n",
    "        WEEKDAY_APPR_PROCESS_START varchar(9),\n",
    "        HOUR_APPR_PROCESS_START integer,\n",
    "        REG_REGION_NOT_LIVE_REGION smallint,\n",
    "        REG_REGION_NOT_WORK_REGION smallint,\n",
    "        LIVE_REGION_NOT_WORK_REGION smallint,\n",
    "        REG_CITY_NOT_LIVE_CITY smallint,\n",
    "        REG_CITY_NOT_WORK_CITY smallint,\n",
    "        LIVE_CITY_NOT_WORK_CITY smallint,\n",
    "        ORGANIZATION_TYPE varchar(33),\n",
    "        EXT_SOURCE_1 double precision,\n",
    "        EXT_SOURCE_2 double precision,\n",
    "        EXT_SOURCE_3 double precision,\n",
    "        APARTMENTS_AVG double precision,\n",
    "        BASEMENTAREA_AVG double precision,\n",
    "        YEARS_BEGINEXPLUATATION_AVG real,\n",
    "        YEARS_BUILD_AVG double precision,\n",
    "        COMMONAREA_AVG double precision,\n",
    "        ELEVATORS_AVG double precision,\n",
    "        ENTRANCES_AVG double precision,\n",
    "        FLOORSMAX_AVG real,\n",
    "        FLOORSMIN_AVG real,\n",
    "        LANDAREA_AVG double precision,\n",
    "        LIVINGAPARTMENTS_AVG double precision,\n",
    "        LIVINGAREA_AVG double precision,\n",
    "        NONLIVINGAPARTMENTS_AVG double precision,\n",
    "        NONLIVINGAREA_AVG double precision,\n",
    "        APARTMENTS_MODE double precision,\n",
    "        BASEMENTAREA_MODE double precision,\n",
    "        YEARS_BEGINEXPLUATATION_MODE real,\n",
    "        YEARS_BUILD_MODE double precision,\n",
    "        COMMONAREA_MODE double precision,\n",
    "        ELEVATORS_MODE real,\n",
    "        ENTRANCES_MODE real,\n",
    "        FLOORSMAX_MODE real,\n",
    "        FLOORSMIN_MODE real,\n",
    "        LANDAREA_MODE double precision,\n",
    "        LIVINGAPARTMENTS_MODE double precision,\n",
    "        LIVINGAREA_MODE double precision,\n",
    "        NONLIVINGAPARTMENTS_MODE double precision,\n",
    "        NONLIVINGAREA_MODE double precision,\n",
    "        APARTMENTS_MEDI double precision,\n",
    "        BASEMENTAREA_MEDI double precision,\n",
    "        YEARS_BEGINEXPLUATATION_MEDI real,\n",
    "        YEARS_BUILD_MEDI double precision,\n",
    "        COMMONAREA_MEDI double precision,\n",
    "        ELEVATORS_MEDI real,\n",
    "        ENTRANCES_MEDI real,\n",
    "        FLOORSMAX_MEDI real,\n",
    "        FLOORSMIN_MEDI real,\n",
    "        LANDAREA_MEDI double precision,\n",
    "        LIVINGAPARTMENTS_MEDI double precision,\n",
    "        LIVINGAREA_MEDI double precision,\n",
    "        NONLIVINGAPARTMENTS_MEDI double precision,\n",
    "        NONLIVINGAREA_MEDI double precision,\n",
    "        FONDKAPREMONT_MODE varchar(21),\n",
    "        HOUSETYPE_MODE varchar(16),\n",
    "        TOTALAREA_MODE double precision,\n",
    "        WALLSMATERIAL_MODE varchar(12),\n",
    "        EMERGENCYSTATE_MODE varchar(3),\n",
    "        OBS_30_CNT_SOCIAL_CIRCLE real,\n",
    "        DEF_30_CNT_SOCIAL_CIRCLE real,\n",
    "        OBS_60_CNT_SOCIAL_CIRCLE real,\n",
    "        DEF_60_CNT_SOCIAL_CIRCLE real,\n",
    "        DAYS_LAST_PHONE_CHANGE double precision,\n",
    "        FLAG_DOCUMENT_2 smallint,\n",
    "        FLAG_DOCUMENT_3 smallint,\n",
    "        FLAG_DOCUMENT_4 smallint,\n",
    "        FLAG_DOCUMENT_5 smallint,\n",
    "        FLAG_DOCUMENT_6 smallint,\n",
    "        FLAG_DOCUMENT_7 smallint,\n",
    "        FLAG_DOCUMENT_8 smallint,\n",
    "        FLAG_DOCUMENT_9 smallint,\n",
    "        FLAG_DOCUMENT_10 smallint,\n",
    "        FLAG_DOCUMENT_11 smallint,\n",
    "        FLAG_DOCUMENT_12 smallint,\n",
    "        FLAG_DOCUMENT_13 smallint,\n",
    "        FLAG_DOCUMENT_14 smallint,\n",
    "        FLAG_DOCUMENT_15 smallint,\n",
    "        FLAG_DOCUMENT_16 smallint,\n",
    "        FLAG_DOCUMENT_17 smallint,\n",
    "        FLAG_DOCUMENT_18 smallint,\n",
    "        FLAG_DOCUMENT_19 smallint,\n",
    "        FLAG_DOCUMENT_20 smallint,\n",
    "        FLAG_DOCUMENT_21 smallint,\n",
    "        AMT_REQ_CREDIT_BUREAU_HOUR real,\n",
    "        AMT_REQ_CREDIT_BUREAU_DAY real,\n",
    "        AMT_REQ_CREDIT_BUREAU_WEEK real,\n",
    "        AMT_REQ_CREDIT_BUREAU_MON real,\n",
    "        AMT_REQ_CREDIT_BUREAU_QRT real,\n",
    "        AMT_REQ_CREDIT_BUREAU_YEAR real);\n",
    "\"\"\""
   ],
   "metadata": {
    "collapsed": false
   }
  },
  {
   "cell_type": "code",
   "execution_count": 11,
   "outputs": [
    {
     "name": "stdout",
     "output_type": "stream",
     "text": [
      "CPU times: total: 0 ns\n",
      "Wall time: 76.2 ms\n"
     ]
    }
   ],
   "source": [
    "%%time\n",
    "sql_connecter.send_sql_query(sql_schema_query)"
   ],
   "metadata": {
    "collapsed": false
   }
  },
  {
   "cell_type": "markdown",
   "source": [
    "Теперь загрузим объединённые данные"
   ],
   "metadata": {
    "collapsed": false
   }
  },
  {
   "cell_type": "code",
   "execution_count": 12,
   "outputs": [],
   "source": [
    "sql_data_query = f\"\"\"\n",
    "COPY train_test_data(\n",
    "    SK_ID_CURR,\n",
    "    NAME_CONTRACT_TYPE,\n",
    "    CODE_GENDER,\n",
    "    FLAG_OWN_CAR,\n",
    "    FLAG_OWN_REALTY,\n",
    "    CNT_CHILDREN,\n",
    "    AMT_INCOME_TOTAL,\n",
    "    AMT_CREDIT,\n",
    "    AMT_ANNUITY,\n",
    "    AMT_GOODS_PRICE,\n",
    "    NAME_TYPE_SUITE,\n",
    "    NAME_INCOME_TYPE,\n",
    "    NAME_EDUCATION_TYPE,\n",
    "    NAME_FAMILY_STATUS,\n",
    "    NAME_HOUSING_TYPE,\n",
    "    REGION_POPULATION_RELATIVE,\n",
    "    DAYS_BIRTH,\n",
    "    DAYS_EMPLOYED,\n",
    "    DAYS_REGISTRATION,\n",
    "    DAYS_ID_PUBLISH,\n",
    "    OWN_CAR_AGE,\n",
    "    FLAG_MOBIL,\n",
    "    FLAG_EMP_PHONE,\n",
    "    FLAG_WORK_PHONE,\n",
    "    FLAG_CONT_MOBILE,\n",
    "    FLAG_PHONE,\n",
    "    FLAG_EMAIL,\n",
    "    OCCUPATION_TYPE,\n",
    "    CNT_FAM_MEMBERS,\n",
    "    REGION_RATING_CLIENT,\n",
    "    REGION_RATING_CLIENT_W_CITY,\n",
    "    WEEKDAY_APPR_PROCESS_START,\n",
    "    HOUR_APPR_PROCESS_START,\n",
    "    REG_REGION_NOT_LIVE_REGION,\n",
    "    REG_REGION_NOT_WORK_REGION,\n",
    "    LIVE_REGION_NOT_WORK_REGION,\n",
    "    REG_CITY_NOT_LIVE_CITY,\n",
    "    REG_CITY_NOT_WORK_CITY,\n",
    "    LIVE_CITY_NOT_WORK_CITY,\n",
    "    ORGANIZATION_TYPE,\n",
    "    EXT_SOURCE_1,\n",
    "    EXT_SOURCE_2,\n",
    "    EXT_SOURCE_3,\n",
    "    APARTMENTS_AVG,\n",
    "    BASEMENTAREA_AVG,\n",
    "    YEARS_BEGINEXPLUATATION_AVG,\n",
    "    YEARS_BUILD_AVG,\n",
    "    COMMONAREA_AVG,\n",
    "    ELEVATORS_AVG,\n",
    "    ENTRANCES_AVG,\n",
    "    FLOORSMAX_AVG,\n",
    "    FLOORSMIN_AVG,\n",
    "    LANDAREA_AVG,\n",
    "    LIVINGAPARTMENTS_AVG,\n",
    "    LIVINGAREA_AVG,\n",
    "    NONLIVINGAPARTMENTS_AVG,\n",
    "    NONLIVINGAREA_AVG,\n",
    "    APARTMENTS_MODE,\n",
    "    BASEMENTAREA_MODE,\n",
    "    YEARS_BEGINEXPLUATATION_MODE,\n",
    "    YEARS_BUILD_MODE,\n",
    "    COMMONAREA_MODE,\n",
    "    ELEVATORS_MODE,\n",
    "    ENTRANCES_MODE,\n",
    "    FLOORSMAX_MODE,\n",
    "    FLOORSMIN_MODE,\n",
    "    LANDAREA_MODE,\n",
    "    LIVINGAPARTMENTS_MODE,\n",
    "    LIVINGAREA_MODE,\n",
    "    NONLIVINGAPARTMENTS_MODE,\n",
    "    NONLIVINGAREA_MODE,\n",
    "    APARTMENTS_MEDI,\n",
    "    BASEMENTAREA_MEDI,\n",
    "    YEARS_BEGINEXPLUATATION_MEDI,\n",
    "    YEARS_BUILD_MEDI,\n",
    "    COMMONAREA_MEDI,\n",
    "    ELEVATORS_MEDI,\n",
    "    ENTRANCES_MEDI,\n",
    "    FLOORSMAX_MEDI,\n",
    "    FLOORSMIN_MEDI,\n",
    "    LANDAREA_MEDI,\n",
    "    LIVINGAPARTMENTS_MEDI,\n",
    "    LIVINGAREA_MEDI,\n",
    "    NONLIVINGAPARTMENTS_MEDI,\n",
    "    NONLIVINGAREA_MEDI,\n",
    "    FONDKAPREMONT_MODE,\n",
    "    HOUSETYPE_MODE,\n",
    "    TOTALAREA_MODE,\n",
    "    WALLSMATERIAL_MODE,\n",
    "    EMERGENCYSTATE_MODE,\n",
    "    OBS_30_CNT_SOCIAL_CIRCLE,\n",
    "    DEF_30_CNT_SOCIAL_CIRCLE,\n",
    "    OBS_60_CNT_SOCIAL_CIRCLE,\n",
    "    DEF_60_CNT_SOCIAL_CIRCLE,\n",
    "    DAYS_LAST_PHONE_CHANGE,\n",
    "    FLAG_DOCUMENT_2,\n",
    "    FLAG_DOCUMENT_3,\n",
    "    FLAG_DOCUMENT_4,\n",
    "    FLAG_DOCUMENT_5,\n",
    "    FLAG_DOCUMENT_6,\n",
    "    FLAG_DOCUMENT_7,\n",
    "    FLAG_DOCUMENT_8,\n",
    "    FLAG_DOCUMENT_9,\n",
    "    FLAG_DOCUMENT_10,\n",
    "    FLAG_DOCUMENT_11,\n",
    "    FLAG_DOCUMENT_12,\n",
    "    FLAG_DOCUMENT_13,\n",
    "    FLAG_DOCUMENT_14,\n",
    "    FLAG_DOCUMENT_15,\n",
    "    FLAG_DOCUMENT_16,\n",
    "    FLAG_DOCUMENT_17,\n",
    "    FLAG_DOCUMENT_18,\n",
    "    FLAG_DOCUMENT_19,\n",
    "    FLAG_DOCUMENT_20,\n",
    "    FLAG_DOCUMENT_21,\n",
    "    AMT_REQ_CREDIT_BUREAU_HOUR,\n",
    "    AMT_REQ_CREDIT_BUREAU_DAY,\n",
    "    AMT_REQ_CREDIT_BUREAU_WEEK,\n",
    "    AMT_REQ_CREDIT_BUREAU_MON,\n",
    "    AMT_REQ_CREDIT_BUREAU_QRT,\n",
    "    AMT_REQ_CREDIT_BUREAU_YEAR\n",
    ")\n",
    "FROM '{data_full_path}train_test_united.csv' DELIMITER ',' CSV HEADER;\n",
    "\"\"\""
   ],
   "metadata": {
    "collapsed": false
   }
  },
  {
   "cell_type": "code",
   "execution_count": 13,
   "outputs": [
    {
     "name": "stdout",
     "output_type": "stream",
     "text": [
      "CPU times: total: 0 ns\n",
      "Wall time: 7.01 s\n"
     ]
    }
   ],
   "source": [
    "%%time\n",
    "sql_connecter.send_sql_query(sql_data_query)"
   ],
   "metadata": {
    "collapsed": false
   }
  },
  {
   "cell_type": "markdown",
   "source": [
    "Проверяем нормально ли загрузилось"
   ],
   "metadata": {
    "collapsed": false
   }
  },
  {
   "cell_type": "code",
   "execution_count": 14,
   "outputs": [
    {
     "name": "stdout",
     "output_type": "stream",
     "text": [
      "CPU times: total: 15.6 ms\n",
      "Wall time: 85 ms\n"
     ]
    },
    {
     "name": "stderr",
     "output_type": "stream",
     "text": [
      "C:\\Users\\user\\Desktop\\SHIFT\\credit_scoring\\src\\app\\utils\\postgres_connector.py:38: UserWarning: pandas only supports SQLAlchemy connectable (engine/connection) or database string URI or sqlite3 DBAPI2 connection. Other DBAPI2 objects are not tested. Please consider using SQLAlchemy.\n",
      "  df = pd.read_sql(query, conn)\n"
     ]
    },
    {
     "data": {
      "text/plain": "   sk_id_curr name_contract_type code_gender flag_own_car flag_own_realty  \\\n0      100002         Cash loans           M            N               Y   \n1      100003         Cash loans           F            N               N   \n2      100004    Revolving loans           M            Y               Y   \n3      100006         Cash loans           F            N               Y   \n4      100007         Cash loans           M            N               Y   \n\n   cnt_children  amt_income_total  amt_credit  amt_annuity  amt_goods_price  \\\n0             0          202500.0    406597.5      24700.5         351000.0   \n1             0          270000.0   1293502.5      35698.5        1129500.0   \n2             0           67500.0    135000.0       6750.0         135000.0   \n3             0          135000.0    312682.5      29686.5         297000.0   \n4             0          121500.0    513000.0      21865.5         513000.0   \n\n   ... flag_document_18 flag_document_19 flag_document_20 flag_document_21  \\\n0  ...                0                0                0                0   \n1  ...                0                0                0                0   \n2  ...                0                0                0                0   \n3  ...                0                0                0                0   \n4  ...                0                0                0                0   \n\n  amt_req_credit_bureau_hour  amt_req_credit_bureau_day  \\\n0                        0.0                        0.0   \n1                        0.0                        0.0   \n2                        0.0                        0.0   \n3                        NaN                        NaN   \n4                        0.0                        0.0   \n\n   amt_req_credit_bureau_week  amt_req_credit_bureau_mon  \\\n0                         0.0                        0.0   \n1                         0.0                        0.0   \n2                         0.0                        0.0   \n3                         NaN                        NaN   \n4                         0.0                        0.0   \n\n   amt_req_credit_bureau_qrt  amt_req_credit_bureau_year  \n0                        0.0                         1.0  \n1                        0.0                         0.0  \n2                        0.0                         0.0  \n3                        NaN                         NaN  \n4                        0.0                         0.0  \n\n[5 rows x 121 columns]",
      "text/html": "<div>\n<style scoped>\n    .dataframe tbody tr th:only-of-type {\n        vertical-align: middle;\n    }\n\n    .dataframe tbody tr th {\n        vertical-align: top;\n    }\n\n    .dataframe thead th {\n        text-align: right;\n    }\n</style>\n<table border=\"1\" class=\"dataframe\">\n  <thead>\n    <tr style=\"text-align: right;\">\n      <th></th>\n      <th>sk_id_curr</th>\n      <th>name_contract_type</th>\n      <th>code_gender</th>\n      <th>flag_own_car</th>\n      <th>flag_own_realty</th>\n      <th>cnt_children</th>\n      <th>amt_income_total</th>\n      <th>amt_credit</th>\n      <th>amt_annuity</th>\n      <th>amt_goods_price</th>\n      <th>...</th>\n      <th>flag_document_18</th>\n      <th>flag_document_19</th>\n      <th>flag_document_20</th>\n      <th>flag_document_21</th>\n      <th>amt_req_credit_bureau_hour</th>\n      <th>amt_req_credit_bureau_day</th>\n      <th>amt_req_credit_bureau_week</th>\n      <th>amt_req_credit_bureau_mon</th>\n      <th>amt_req_credit_bureau_qrt</th>\n      <th>amt_req_credit_bureau_year</th>\n    </tr>\n  </thead>\n  <tbody>\n    <tr>\n      <th>0</th>\n      <td>100002</td>\n      <td>Cash loans</td>\n      <td>M</td>\n      <td>N</td>\n      <td>Y</td>\n      <td>0</td>\n      <td>202500.0</td>\n      <td>406597.5</td>\n      <td>24700.5</td>\n      <td>351000.0</td>\n      <td>...</td>\n      <td>0</td>\n      <td>0</td>\n      <td>0</td>\n      <td>0</td>\n      <td>0.0</td>\n      <td>0.0</td>\n      <td>0.0</td>\n      <td>0.0</td>\n      <td>0.0</td>\n      <td>1.0</td>\n    </tr>\n    <tr>\n      <th>1</th>\n      <td>100003</td>\n      <td>Cash loans</td>\n      <td>F</td>\n      <td>N</td>\n      <td>N</td>\n      <td>0</td>\n      <td>270000.0</td>\n      <td>1293502.5</td>\n      <td>35698.5</td>\n      <td>1129500.0</td>\n      <td>...</td>\n      <td>0</td>\n      <td>0</td>\n      <td>0</td>\n      <td>0</td>\n      <td>0.0</td>\n      <td>0.0</td>\n      <td>0.0</td>\n      <td>0.0</td>\n      <td>0.0</td>\n      <td>0.0</td>\n    </tr>\n    <tr>\n      <th>2</th>\n      <td>100004</td>\n      <td>Revolving loans</td>\n      <td>M</td>\n      <td>Y</td>\n      <td>Y</td>\n      <td>0</td>\n      <td>67500.0</td>\n      <td>135000.0</td>\n      <td>6750.0</td>\n      <td>135000.0</td>\n      <td>...</td>\n      <td>0</td>\n      <td>0</td>\n      <td>0</td>\n      <td>0</td>\n      <td>0.0</td>\n      <td>0.0</td>\n      <td>0.0</td>\n      <td>0.0</td>\n      <td>0.0</td>\n      <td>0.0</td>\n    </tr>\n    <tr>\n      <th>3</th>\n      <td>100006</td>\n      <td>Cash loans</td>\n      <td>F</td>\n      <td>N</td>\n      <td>Y</td>\n      <td>0</td>\n      <td>135000.0</td>\n      <td>312682.5</td>\n      <td>29686.5</td>\n      <td>297000.0</td>\n      <td>...</td>\n      <td>0</td>\n      <td>0</td>\n      <td>0</td>\n      <td>0</td>\n      <td>NaN</td>\n      <td>NaN</td>\n      <td>NaN</td>\n      <td>NaN</td>\n      <td>NaN</td>\n      <td>NaN</td>\n    </tr>\n    <tr>\n      <th>4</th>\n      <td>100007</td>\n      <td>Cash loans</td>\n      <td>M</td>\n      <td>N</td>\n      <td>Y</td>\n      <td>0</td>\n      <td>121500.0</td>\n      <td>513000.0</td>\n      <td>21865.5</td>\n      <td>513000.0</td>\n      <td>...</td>\n      <td>0</td>\n      <td>0</td>\n      <td>0</td>\n      <td>0</td>\n      <td>0.0</td>\n      <td>0.0</td>\n      <td>0.0</td>\n      <td>0.0</td>\n      <td>0.0</td>\n      <td>0.0</td>\n    </tr>\n  </tbody>\n</table>\n<p>5 rows × 121 columns</p>\n</div>"
     },
     "execution_count": 14,
     "metadata": {},
     "output_type": "execute_result"
    }
   ],
   "source": [
    "%%time\n",
    "sql_query = \"\"\"\n",
    "    SELECT * FROM train_test_data\n",
    "    LIMIT 5\n",
    "\"\"\"\n",
    "sql_connecter.get_df_from_query(sql_query)"
   ],
   "metadata": {
    "collapsed": false
   }
  },
  {
   "cell_type": "code",
   "execution_count": 15,
   "outputs": [
    {
     "name": "stderr",
     "output_type": "stream",
     "text": [
      "C:\\Users\\user\\Desktop\\SHIFT\\credit_scoring\\src\\app\\utils\\postgres_connector.py:38: UserWarning: pandas only supports SQLAlchemy connectable (engine/connection) or database string URI or sqlite3 DBAPI2 connection. Other DBAPI2 objects are not tested. Please consider using SQLAlchemy.\n",
      "  df = pd.read_sql(query, conn)\n"
     ]
    },
    {
     "name": "stdout",
     "output_type": "stream",
     "text": [
      "CPU times: total: 12 s\n",
      "Wall time: 14.6 s\n"
     ]
    }
   ],
   "source": [
    "%%time\n",
    "sql_query = \"\"\"\n",
    "    SELECT * FROM train_test_data\n",
    "\"\"\"\n",
    "df_train_test_data = sql_connecter.get_df_from_query(sql_query)"
   ],
   "metadata": {
    "collapsed": false
   }
  },
  {
   "cell_type": "markdown",
   "source": [
    "Далее генерируем 5 признаков\n",
    "Мне в комментариях сказали, что создавать новую колонку и её заполнять не нужно, а просто написать запрос\n",
    "Так как видео не выложено, то сделаю как мне сказали"
   ],
   "metadata": {
    "collapsed": false
   }
  },
  {
   "cell_type": "markdown",
   "source": [
    "Признак №1 флаг аномалий для колонки DAYS_EMPLOYED, где DAYS_EMPLOYED==365243, то True, в противном случае False"
   ],
   "metadata": {
    "collapsed": false
   }
  },
  {
   "cell_type": "code",
   "execution_count": 16,
   "outputs": [
    {
     "name": "stdout",
     "output_type": "stream",
     "text": [
      "CPU times: total: 31.2 ms\n",
      "Wall time: 276 ms\n"
     ]
    },
    {
     "name": "stderr",
     "output_type": "stream",
     "text": [
      "C:\\Users\\user\\Desktop\\SHIFT\\credit_scoring\\src\\app\\utils\\postgres_connector.py:38: UserWarning: pandas only supports SQLAlchemy connectable (engine/connection) or database string URI or sqlite3 DBAPI2 connection. Other DBAPI2 objects are not tested. Please consider using SQLAlchemy.\n",
      "  df = pd.read_sql(query, conn)\n"
     ]
    },
    {
     "data": {
      "text/plain": "       sk_id_curr  days_employed\n0          100011         365243\n1          100015         365243\n2          100027         365243\n3          100045         365243\n4          100050         365243\n...           ...            ...\n64643      456008         365243\n64644      456119         365243\n64645      456123         365243\n64646      456169         365243\n64647      456170         365243\n\n[64648 rows x 2 columns]",
      "text/html": "<div>\n<style scoped>\n    .dataframe tbody tr th:only-of-type {\n        vertical-align: middle;\n    }\n\n    .dataframe tbody tr th {\n        vertical-align: top;\n    }\n\n    .dataframe thead th {\n        text-align: right;\n    }\n</style>\n<table border=\"1\" class=\"dataframe\">\n  <thead>\n    <tr style=\"text-align: right;\">\n      <th></th>\n      <th>sk_id_curr</th>\n      <th>days_employed</th>\n    </tr>\n  </thead>\n  <tbody>\n    <tr>\n      <th>0</th>\n      <td>100011</td>\n      <td>365243</td>\n    </tr>\n    <tr>\n      <th>1</th>\n      <td>100015</td>\n      <td>365243</td>\n    </tr>\n    <tr>\n      <th>2</th>\n      <td>100027</td>\n      <td>365243</td>\n    </tr>\n    <tr>\n      <th>3</th>\n      <td>100045</td>\n      <td>365243</td>\n    </tr>\n    <tr>\n      <th>4</th>\n      <td>100050</td>\n      <td>365243</td>\n    </tr>\n    <tr>\n      <th>...</th>\n      <td>...</td>\n      <td>...</td>\n    </tr>\n    <tr>\n      <th>64643</th>\n      <td>456008</td>\n      <td>365243</td>\n    </tr>\n    <tr>\n      <th>64644</th>\n      <td>456119</td>\n      <td>365243</td>\n    </tr>\n    <tr>\n      <th>64645</th>\n      <td>456123</td>\n      <td>365243</td>\n    </tr>\n    <tr>\n      <th>64646</th>\n      <td>456169</td>\n      <td>365243</td>\n    </tr>\n    <tr>\n      <th>64647</th>\n      <td>456170</td>\n      <td>365243</td>\n    </tr>\n  </tbody>\n</table>\n<p>64648 rows × 2 columns</p>\n</div>"
     },
     "execution_count": 16,
     "metadata": {},
     "output_type": "execute_result"
    }
   ],
   "source": [
    "%%time\n",
    "sql_query = '''\n",
    "SELECT SK_ID_CURR, DAYS_EMPLOYED FROM train_test_data\n",
    "WHERE DAYS_EMPLOYED=365243\n",
    "'''\n",
    "sql_connecter.get_df_from_query(sql_query)\n"
   ],
   "metadata": {
    "collapsed": false
   }
  },
  {
   "cell_type": "markdown",
   "source": [
    "Признак №2. Отношение кредита к ежемесячному платежу"
   ],
   "metadata": {
    "collapsed": false
   }
  },
  {
   "cell_type": "code",
   "execution_count": 17,
   "outputs": [
    {
     "name": "stderr",
     "output_type": "stream",
     "text": [
      "C:\\Users\\user\\Desktop\\SHIFT\\credit_scoring\\src\\app\\utils\\postgres_connector.py:38: UserWarning: pandas only supports SQLAlchemy connectable (engine/connection) or database string URI or sqlite3 DBAPI2 connection. Other DBAPI2 objects are not tested. Please consider using SQLAlchemy.\n",
      "  df = pd.read_sql(query, conn)\n"
     ]
    },
    {
     "name": "stdout",
     "output_type": "stream",
     "text": [
      "CPU times: total: 422 ms\n",
      "Wall time: 860 ms\n"
     ]
    },
    {
     "data": {
      "text/plain": "        sk_id_curr  amt_credit  amt_annuity  new_credit_to_annuity_ratio\n0           100002    406597.5      24700.5                    16.461104\n1           100003   1293502.5      35698.5                    36.234085\n2           100004    135000.0       6750.0                    20.000000\n3           100006    312682.5      29686.5                    10.532818\n4           100007    513000.0      21865.5                    23.461618\n...            ...         ...          ...                          ...\n356250      456221    412560.0      17473.5                    23.610610\n356251      456222    622413.0      31909.5                    19.505570\n356252      456223    315000.0      33205.5                     9.486380\n356253      456224    450000.0      25128.0                    17.908309\n356254      456250    312768.0      24709.5                    12.657804\n\n[356255 rows x 4 columns]",
      "text/html": "<div>\n<style scoped>\n    .dataframe tbody tr th:only-of-type {\n        vertical-align: middle;\n    }\n\n    .dataframe tbody tr th {\n        vertical-align: top;\n    }\n\n    .dataframe thead th {\n        text-align: right;\n    }\n</style>\n<table border=\"1\" class=\"dataframe\">\n  <thead>\n    <tr style=\"text-align: right;\">\n      <th></th>\n      <th>sk_id_curr</th>\n      <th>amt_credit</th>\n      <th>amt_annuity</th>\n      <th>new_credit_to_annuity_ratio</th>\n    </tr>\n  </thead>\n  <tbody>\n    <tr>\n      <th>0</th>\n      <td>100002</td>\n      <td>406597.5</td>\n      <td>24700.5</td>\n      <td>16.461104</td>\n    </tr>\n    <tr>\n      <th>1</th>\n      <td>100003</td>\n      <td>1293502.5</td>\n      <td>35698.5</td>\n      <td>36.234085</td>\n    </tr>\n    <tr>\n      <th>2</th>\n      <td>100004</td>\n      <td>135000.0</td>\n      <td>6750.0</td>\n      <td>20.000000</td>\n    </tr>\n    <tr>\n      <th>3</th>\n      <td>100006</td>\n      <td>312682.5</td>\n      <td>29686.5</td>\n      <td>10.532818</td>\n    </tr>\n    <tr>\n      <th>4</th>\n      <td>100007</td>\n      <td>513000.0</td>\n      <td>21865.5</td>\n      <td>23.461618</td>\n    </tr>\n    <tr>\n      <th>...</th>\n      <td>...</td>\n      <td>...</td>\n      <td>...</td>\n      <td>...</td>\n    </tr>\n    <tr>\n      <th>356250</th>\n      <td>456221</td>\n      <td>412560.0</td>\n      <td>17473.5</td>\n      <td>23.610610</td>\n    </tr>\n    <tr>\n      <th>356251</th>\n      <td>456222</td>\n      <td>622413.0</td>\n      <td>31909.5</td>\n      <td>19.505570</td>\n    </tr>\n    <tr>\n      <th>356252</th>\n      <td>456223</td>\n      <td>315000.0</td>\n      <td>33205.5</td>\n      <td>9.486380</td>\n    </tr>\n    <tr>\n      <th>356253</th>\n      <td>456224</td>\n      <td>450000.0</td>\n      <td>25128.0</td>\n      <td>17.908309</td>\n    </tr>\n    <tr>\n      <th>356254</th>\n      <td>456250</td>\n      <td>312768.0</td>\n      <td>24709.5</td>\n      <td>12.657804</td>\n    </tr>\n  </tbody>\n</table>\n<p>356255 rows × 4 columns</p>\n</div>"
     },
     "execution_count": 17,
     "metadata": {},
     "output_type": "execute_result"
    }
   ],
   "source": [
    "%%time\n",
    "sql_query = '''\n",
    "SELECT SK_ID_CURR, AMT_CREDIT, AMT_ANNUITY, (AMT_CREDIT/AMT_ANNUITY) as NEW_CREDIT_TO_ANNUITY_RATIO\n",
    "FROM train_test_data\n",
    "'''\n",
    "sql_connecter.get_df_from_query(sql_query)"
   ],
   "metadata": {
    "collapsed": false
   }
  },
  {
   "cell_type": "markdown",
   "source": [
    "Признак №3. Отношение кредита к цене товаров"
   ],
   "metadata": {
    "collapsed": false
   }
  },
  {
   "cell_type": "code",
   "execution_count": 18,
   "outputs": [
    {
     "name": "stderr",
     "output_type": "stream",
     "text": [
      "C:\\Users\\user\\Desktop\\SHIFT\\credit_scoring\\src\\app\\utils\\postgres_connector.py:38: UserWarning: pandas only supports SQLAlchemy connectable (engine/connection) or database string URI or sqlite3 DBAPI2 connection. Other DBAPI2 objects are not tested. Please consider using SQLAlchemy.\n",
      "  df = pd.read_sql(query, conn)\n"
     ]
    },
    {
     "name": "stdout",
     "output_type": "stream",
     "text": [
      "CPU times: total: 422 ms\n",
      "Wall time: 818 ms\n"
     ]
    },
    {
     "data": {
      "text/plain": "        sk_id_curr  amt_credit  amt_goods_price  new_credit_to_goods_ratio\n0           100002    406597.5         351000.0                   1.158397\n1           100003   1293502.5        1129500.0                   1.145199\n2           100004    135000.0         135000.0                   1.000000\n3           100006    312682.5         297000.0                   1.052803\n4           100007    513000.0         513000.0                   1.000000\n...            ...         ...              ...                        ...\n356250      456221    412560.0         270000.0                   1.528000\n356251      456222    622413.0         495000.0                   1.257400\n356252      456223    315000.0         315000.0                   1.000000\n356253      456224    450000.0         450000.0                   1.000000\n356254      456250    312768.0         270000.0                   1.158400\n\n[356255 rows x 4 columns]",
      "text/html": "<div>\n<style scoped>\n    .dataframe tbody tr th:only-of-type {\n        vertical-align: middle;\n    }\n\n    .dataframe tbody tr th {\n        vertical-align: top;\n    }\n\n    .dataframe thead th {\n        text-align: right;\n    }\n</style>\n<table border=\"1\" class=\"dataframe\">\n  <thead>\n    <tr style=\"text-align: right;\">\n      <th></th>\n      <th>sk_id_curr</th>\n      <th>amt_credit</th>\n      <th>amt_goods_price</th>\n      <th>new_credit_to_goods_ratio</th>\n    </tr>\n  </thead>\n  <tbody>\n    <tr>\n      <th>0</th>\n      <td>100002</td>\n      <td>406597.5</td>\n      <td>351000.0</td>\n      <td>1.158397</td>\n    </tr>\n    <tr>\n      <th>1</th>\n      <td>100003</td>\n      <td>1293502.5</td>\n      <td>1129500.0</td>\n      <td>1.145199</td>\n    </tr>\n    <tr>\n      <th>2</th>\n      <td>100004</td>\n      <td>135000.0</td>\n      <td>135000.0</td>\n      <td>1.000000</td>\n    </tr>\n    <tr>\n      <th>3</th>\n      <td>100006</td>\n      <td>312682.5</td>\n      <td>297000.0</td>\n      <td>1.052803</td>\n    </tr>\n    <tr>\n      <th>4</th>\n      <td>100007</td>\n      <td>513000.0</td>\n      <td>513000.0</td>\n      <td>1.000000</td>\n    </tr>\n    <tr>\n      <th>...</th>\n      <td>...</td>\n      <td>...</td>\n      <td>...</td>\n      <td>...</td>\n    </tr>\n    <tr>\n      <th>356250</th>\n      <td>456221</td>\n      <td>412560.0</td>\n      <td>270000.0</td>\n      <td>1.528000</td>\n    </tr>\n    <tr>\n      <th>356251</th>\n      <td>456222</td>\n      <td>622413.0</td>\n      <td>495000.0</td>\n      <td>1.257400</td>\n    </tr>\n    <tr>\n      <th>356252</th>\n      <td>456223</td>\n      <td>315000.0</td>\n      <td>315000.0</td>\n      <td>1.000000</td>\n    </tr>\n    <tr>\n      <th>356253</th>\n      <td>456224</td>\n      <td>450000.0</td>\n      <td>450000.0</td>\n      <td>1.000000</td>\n    </tr>\n    <tr>\n      <th>356254</th>\n      <td>456250</td>\n      <td>312768.0</td>\n      <td>270000.0</td>\n      <td>1.158400</td>\n    </tr>\n  </tbody>\n</table>\n<p>356255 rows × 4 columns</p>\n</div>"
     },
     "execution_count": 18,
     "metadata": {},
     "output_type": "execute_result"
    }
   ],
   "source": [
    "%%time\n",
    "sql_query = '''\n",
    "SELECT SK_ID_CURR, AMT_CREDIT, AMT_GOODS_PRICE, (AMT_CREDIT/AMT_GOODS_PRICE) as NEW_CREDIT_TO_GOODS_RATIO\n",
    "FROM train_test_data\n",
    "'''\n",
    "sql_connecter.get_df_from_query(sql_query)"
   ],
   "metadata": {
    "collapsed": false
   }
  },
  {
   "cell_type": "markdown",
   "source": [
    "Признак №4. Количество денег члена семьи (исходя из того, что один взрослый в семье, взял кредит и кормит детей, а второй взрослый не вкладывает в семью, а просто содержит себя)"
   ],
   "metadata": {
    "collapsed": false
   }
  },
  {
   "cell_type": "code",
   "execution_count": 19,
   "outputs": [
    {
     "name": "stderr",
     "output_type": "stream",
     "text": [
      "C:\\Users\\user\\Desktop\\SHIFT\\credit_scoring\\src\\app\\utils\\postgres_connector.py:38: UserWarning: pandas only supports SQLAlchemy connectable (engine/connection) or database string URI or sqlite3 DBAPI2 connection. Other DBAPI2 objects are not tested. Please consider using SQLAlchemy.\n",
      "  df = pd.read_sql(query, conn)\n"
     ]
    },
    {
     "name": "stdout",
     "output_type": "stream",
     "text": [
      "CPU times: total: 391 ms\n",
      "Wall time: 758 ms\n"
     ]
    },
    {
     "data": {
      "text/plain": "        sk_id_curr  amt_income_total  cnt_children  new_inc_per_chld\n0           100002          202500.0             0          202500.0\n1           100003          270000.0             0          270000.0\n2           100004           67500.0             0           67500.0\n3           100006          135000.0             0          135000.0\n4           100007          121500.0             0          121500.0\n...            ...               ...           ...               ...\n356250      456221          121500.0             0          121500.0\n356251      456222          157500.0             2           52500.0\n356252      456223          202500.0             1          101250.0\n356253      456224          225000.0             0          225000.0\n356254      456250          135000.0             0          135000.0\n\n[356255 rows x 4 columns]",
      "text/html": "<div>\n<style scoped>\n    .dataframe tbody tr th:only-of-type {\n        vertical-align: middle;\n    }\n\n    .dataframe tbody tr th {\n        vertical-align: top;\n    }\n\n    .dataframe thead th {\n        text-align: right;\n    }\n</style>\n<table border=\"1\" class=\"dataframe\">\n  <thead>\n    <tr style=\"text-align: right;\">\n      <th></th>\n      <th>sk_id_curr</th>\n      <th>amt_income_total</th>\n      <th>cnt_children</th>\n      <th>new_inc_per_chld</th>\n    </tr>\n  </thead>\n  <tbody>\n    <tr>\n      <th>0</th>\n      <td>100002</td>\n      <td>202500.0</td>\n      <td>0</td>\n      <td>202500.0</td>\n    </tr>\n    <tr>\n      <th>1</th>\n      <td>100003</td>\n      <td>270000.0</td>\n      <td>0</td>\n      <td>270000.0</td>\n    </tr>\n    <tr>\n      <th>2</th>\n      <td>100004</td>\n      <td>67500.0</td>\n      <td>0</td>\n      <td>67500.0</td>\n    </tr>\n    <tr>\n      <th>3</th>\n      <td>100006</td>\n      <td>135000.0</td>\n      <td>0</td>\n      <td>135000.0</td>\n    </tr>\n    <tr>\n      <th>4</th>\n      <td>100007</td>\n      <td>121500.0</td>\n      <td>0</td>\n      <td>121500.0</td>\n    </tr>\n    <tr>\n      <th>...</th>\n      <td>...</td>\n      <td>...</td>\n      <td>...</td>\n      <td>...</td>\n    </tr>\n    <tr>\n      <th>356250</th>\n      <td>456221</td>\n      <td>121500.0</td>\n      <td>0</td>\n      <td>121500.0</td>\n    </tr>\n    <tr>\n      <th>356251</th>\n      <td>456222</td>\n      <td>157500.0</td>\n      <td>2</td>\n      <td>52500.0</td>\n    </tr>\n    <tr>\n      <th>356252</th>\n      <td>456223</td>\n      <td>202500.0</td>\n      <td>1</td>\n      <td>101250.0</td>\n    </tr>\n    <tr>\n      <th>356253</th>\n      <td>456224</td>\n      <td>225000.0</td>\n      <td>0</td>\n      <td>225000.0</td>\n    </tr>\n    <tr>\n      <th>356254</th>\n      <td>456250</td>\n      <td>135000.0</td>\n      <td>0</td>\n      <td>135000.0</td>\n    </tr>\n  </tbody>\n</table>\n<p>356255 rows × 4 columns</p>\n</div>"
     },
     "execution_count": 19,
     "metadata": {},
     "output_type": "execute_result"
    }
   ],
   "source": [
    "%%time\n",
    "sql_query = '''\n",
    "SELECT SK_ID_CURR, AMT_INCOME_TOTAL, CNT_CHILDREN, (AMT_INCOME_TOTAL/(1+CNT_CHILDREN)) as NEW_INC_PER_CHLD\n",
    "FROM train_test_data\n",
    "\n",
    "'''\n",
    "sql_connecter.get_df_from_query(sql_query)"
   ],
   "metadata": {
    "collapsed": false
   }
  },
  {
   "cell_type": "markdown",
   "source": [
    "Признак №5. Отношение количества лет машине к дням, которые работает"
   ],
   "metadata": {
    "collapsed": false
   }
  },
  {
   "cell_type": "code",
   "execution_count": 20,
   "outputs": [
    {
     "name": "stderr",
     "output_type": "stream",
     "text": [
      "C:\\Users\\user\\Desktop\\SHIFT\\credit_scoring\\src\\app\\utils\\postgres_connector.py:38: UserWarning: pandas only supports SQLAlchemy connectable (engine/connection) or database string URI or sqlite3 DBAPI2 connection. Other DBAPI2 objects are not tested. Please consider using SQLAlchemy.\n",
      "  df = pd.read_sql(query, conn)\n"
     ]
    },
    {
     "name": "stdout",
     "output_type": "stream",
     "text": [
      "CPU times: total: 375 ms\n",
      "Wall time: 744 ms\n"
     ]
    },
    {
     "data": {
      "text/plain": "        sk_id_curr  own_car_age  days_employed  new_car_to_employ_ratio\n0           100002          NaN           -637                      NaN\n1           100003          NaN          -1188                      NaN\n2           100004         26.0           -225                -0.115556\n3           100006          NaN          -3039                      NaN\n4           100007          NaN          -3038                      NaN\n...            ...          ...            ...                      ...\n356250      456221          NaN          -5169                      NaN\n356251      456222          NaN          -1149                      NaN\n356252      456223          4.0          -3037                -0.001317\n356253      456224          NaN          -2731                      NaN\n356254      456250         22.0           -633                -0.034755\n\n[356255 rows x 4 columns]",
      "text/html": "<div>\n<style scoped>\n    .dataframe tbody tr th:only-of-type {\n        vertical-align: middle;\n    }\n\n    .dataframe tbody tr th {\n        vertical-align: top;\n    }\n\n    .dataframe thead th {\n        text-align: right;\n    }\n</style>\n<table border=\"1\" class=\"dataframe\">\n  <thead>\n    <tr style=\"text-align: right;\">\n      <th></th>\n      <th>sk_id_curr</th>\n      <th>own_car_age</th>\n      <th>days_employed</th>\n      <th>new_car_to_employ_ratio</th>\n    </tr>\n  </thead>\n  <tbody>\n    <tr>\n      <th>0</th>\n      <td>100002</td>\n      <td>NaN</td>\n      <td>-637</td>\n      <td>NaN</td>\n    </tr>\n    <tr>\n      <th>1</th>\n      <td>100003</td>\n      <td>NaN</td>\n      <td>-1188</td>\n      <td>NaN</td>\n    </tr>\n    <tr>\n      <th>2</th>\n      <td>100004</td>\n      <td>26.0</td>\n      <td>-225</td>\n      <td>-0.115556</td>\n    </tr>\n    <tr>\n      <th>3</th>\n      <td>100006</td>\n      <td>NaN</td>\n      <td>-3039</td>\n      <td>NaN</td>\n    </tr>\n    <tr>\n      <th>4</th>\n      <td>100007</td>\n      <td>NaN</td>\n      <td>-3038</td>\n      <td>NaN</td>\n    </tr>\n    <tr>\n      <th>...</th>\n      <td>...</td>\n      <td>...</td>\n      <td>...</td>\n      <td>...</td>\n    </tr>\n    <tr>\n      <th>356250</th>\n      <td>456221</td>\n      <td>NaN</td>\n      <td>-5169</td>\n      <td>NaN</td>\n    </tr>\n    <tr>\n      <th>356251</th>\n      <td>456222</td>\n      <td>NaN</td>\n      <td>-1149</td>\n      <td>NaN</td>\n    </tr>\n    <tr>\n      <th>356252</th>\n      <td>456223</td>\n      <td>4.0</td>\n      <td>-3037</td>\n      <td>-0.001317</td>\n    </tr>\n    <tr>\n      <th>356253</th>\n      <td>456224</td>\n      <td>NaN</td>\n      <td>-2731</td>\n      <td>NaN</td>\n    </tr>\n    <tr>\n      <th>356254</th>\n      <td>456250</td>\n      <td>22.0</td>\n      <td>-633</td>\n      <td>-0.034755</td>\n    </tr>\n  </tbody>\n</table>\n<p>356255 rows × 4 columns</p>\n</div>"
     },
     "execution_count": 20,
     "metadata": {},
     "output_type": "execute_result"
    }
   ],
   "source": [
    "%%time\n",
    "sql_query = '''\n",
    "SELECT SK_ID_CURR, OWN_CAR_AGE, DAYS_EMPLOYED, (OWN_CAR_AGE/DAYS_EMPLOYED) as NEW_CAR_TO_EMPLOY_RATIO\n",
    "FROM train_test_data\n",
    "'''\n",
    "sql_connecter.get_df_from_query(sql_query)"
   ],
   "metadata": {
    "collapsed": false
   }
  },
  {
   "cell_type": "markdown",
   "source": [
    "# Упражнения"
   ],
   "metadata": {
    "collapsed": false
   }
  },
  {
   "cell_type": "code",
   "execution_count": 21,
   "outputs": [
    {
     "name": "stdout",
     "output_type": "stream",
     "text": [
      "CPU times: total: 0 ns\n",
      "Wall time: 218 ms\n"
     ]
    },
    {
     "name": "stderr",
     "output_type": "stream",
     "text": [
      "C:\\Users\\user\\Desktop\\SHIFT\\credit_scoring\\src\\app\\utils\\postgres_connector.py:38: UserWarning: pandas only supports SQLAlchemy connectable (engine/connection) or database string URI or sqlite3 DBAPI2 connection. Other DBAPI2 objects are not tested. Please consider using SQLAlchemy.\n",
      "  df = pd.read_sql(query, conn)\n"
     ]
    },
    {
     "data": {
      "text/plain": "   average_income\n0    170116.05986",
      "text/html": "<div>\n<style scoped>\n    .dataframe tbody tr th:only-of-type {\n        vertical-align: middle;\n    }\n\n    .dataframe tbody tr th {\n        vertical-align: top;\n    }\n\n    .dataframe thead th {\n        text-align: right;\n    }\n</style>\n<table border=\"1\" class=\"dataframe\">\n  <thead>\n    <tr style=\"text-align: right;\">\n      <th></th>\n      <th>average_income</th>\n    </tr>\n  </thead>\n  <tbody>\n    <tr>\n      <th>0</th>\n      <td>170116.05986</td>\n    </tr>\n  </tbody>\n</table>\n</div>"
     },
     "execution_count": 21,
     "metadata": {},
     "output_type": "execute_result"
    }
   ],
   "source": [
    "%%time\n",
    "# 1. вывести средний доход среди всех клиентов\n",
    "sql_query = '''\n",
    "SELECT AVG(AMT_INCOME_TOTAL) as average_income\n",
    "FROM train_test_data\n",
    "'''\n",
    "sql_connecter.get_df_from_query(sql_query)"
   ],
   "metadata": {
    "collapsed": false
   }
  },
  {
   "cell_type": "code",
   "execution_count": 22,
   "outputs": [
    {
     "name": "stdout",
     "output_type": "stream",
     "text": [
      "CPU times: total: 0 ns\n",
      "Wall time: 195 ms\n"
     ]
    },
    {
     "name": "stderr",
     "output_type": "stream",
     "text": [
      "C:\\Users\\user\\Desktop\\SHIFT\\credit_scoring\\src\\app\\utils\\postgres_connector.py:38: UserWarning: pandas only supports SQLAlchemy connectable (engine/connection) or database string URI or sqlite3 DBAPI2 connection. Other DBAPI2 objects are not tested. Please consider using SQLAlchemy.\n",
      "  df = pd.read_sql(query, conn)\n"
     ]
    },
    {
     "data": {
      "text/plain": "   min_years_birth  max_years_birth\n0               20               69",
      "text/html": "<div>\n<style scoped>\n    .dataframe tbody tr th:only-of-type {\n        vertical-align: middle;\n    }\n\n    .dataframe tbody tr th {\n        vertical-align: top;\n    }\n\n    .dataframe thead th {\n        text-align: right;\n    }\n</style>\n<table border=\"1\" class=\"dataframe\">\n  <thead>\n    <tr style=\"text-align: right;\">\n      <th></th>\n      <th>min_years_birth</th>\n      <th>max_years_birth</th>\n    </tr>\n  </thead>\n  <tbody>\n    <tr>\n      <th>0</th>\n      <td>20</td>\n      <td>69</td>\n    </tr>\n  </tbody>\n</table>\n</div>"
     },
     "execution_count": 22,
     "metadata": {},
     "output_type": "execute_result"
    }
   ],
   "source": [
    "%%time\n",
    "# 2. вывести минимальный и максимальный возраст среди всех клиентов\n",
    "sql_query = '''\n",
    "SELECT MIN(-DAYS_BIRTH)/365 as MIN_YEARS_BIRTH, MAX(-DAYS_BIRTH)/365 as MAX_YEARS_BIRTH\n",
    "FROM train_test_data\n",
    "'''\n",
    "sql_connecter.get_df_from_query(sql_query)"
   ],
   "metadata": {
    "collapsed": false
   }
  },
  {
   "cell_type": "code",
   "execution_count": 23,
   "outputs": [
    {
     "name": "stdout",
     "output_type": "stream",
     "text": [
      "CPU times: total: 0 ns\n",
      "Wall time: 199 ms\n"
     ]
    },
    {
     "name": "stderr",
     "output_type": "stream",
     "text": [
      "C:\\Users\\user\\Desktop\\SHIFT\\credit_scoring\\src\\app\\utils\\postgres_connector.py:38: UserWarning: pandas only supports SQLAlchemy connectable (engine/connection) or database string URI or sqlite3 DBAPI2 connection. Other DBAPI2 objects are not tested. Please consider using SQLAlchemy.\n",
      "  df = pd.read_sql(query, conn)\n"
     ]
    },
    {
     "data": {
      "text/plain": "  code_gender   count\n0           F  235126\n1           M  121125",
      "text/html": "<div>\n<style scoped>\n    .dataframe tbody tr th:only-of-type {\n        vertical-align: middle;\n    }\n\n    .dataframe tbody tr th {\n        vertical-align: top;\n    }\n\n    .dataframe thead th {\n        text-align: right;\n    }\n</style>\n<table border=\"1\" class=\"dataframe\">\n  <thead>\n    <tr style=\"text-align: right;\">\n      <th></th>\n      <th>code_gender</th>\n      <th>count</th>\n    </tr>\n  </thead>\n  <tbody>\n    <tr>\n      <th>0</th>\n      <td>F</td>\n      <td>235126</td>\n    </tr>\n    <tr>\n      <th>1</th>\n      <td>M</td>\n      <td>121125</td>\n    </tr>\n  </tbody>\n</table>\n</div>"
     },
     "execution_count": 23,
     "metadata": {},
     "output_type": "execute_result"
    }
   ],
   "source": [
    "%%time\n",
    "# 3. вывести количество мужчин и женщин\n",
    "sql_query = '''\n",
    "SELECT CODE_GENDER, COUNT(*)\n",
    "FROM train_test_data\n",
    "WHERE CODE_GENDER NOT IN ('XNA')\n",
    "GROUP BY CODE_GENDER\n",
    "'''\n",
    "sql_connecter.get_df_from_query(sql_query)"
   ],
   "metadata": {
    "collapsed": false
   }
  },
  {
   "cell_type": "code",
   "execution_count": 24,
   "outputs": [
    {
     "name": "stderr",
     "output_type": "stream",
     "text": [
      "C:\\Users\\user\\Desktop\\SHIFT\\credit_scoring\\src\\app\\utils\\postgres_connector.py:38: UserWarning: pandas only supports SQLAlchemy connectable (engine/connection) or database string URI or sqlite3 DBAPI2 connection. Other DBAPI2 objects are not tested. Please consider using SQLAlchemy.\n",
      "  df = pd.read_sql(query, conn)\n"
     ]
    },
    {
     "name": "stdout",
     "output_type": "stream",
     "text": [
      "CPU times: total: 0 ns\n",
      "Wall time: 214 ms\n"
     ]
    },
    {
     "data": {
      "text/plain": "  flag_own_car  sum_amt_credit  count_amt_credit  avg_amt_credit\n0            N    1.303948e+11            235235   554317.381867\n1            Y    7.900023e+10            121020   652786.569683",
      "text/html": "<div>\n<style scoped>\n    .dataframe tbody tr th:only-of-type {\n        vertical-align: middle;\n    }\n\n    .dataframe tbody tr th {\n        vertical-align: top;\n    }\n\n    .dataframe thead th {\n        text-align: right;\n    }\n</style>\n<table border=\"1\" class=\"dataframe\">\n  <thead>\n    <tr style=\"text-align: right;\">\n      <th></th>\n      <th>flag_own_car</th>\n      <th>sum_amt_credit</th>\n      <th>count_amt_credit</th>\n      <th>avg_amt_credit</th>\n    </tr>\n  </thead>\n  <tbody>\n    <tr>\n      <th>0</th>\n      <td>N</td>\n      <td>1.303948e+11</td>\n      <td>235235</td>\n      <td>554317.381867</td>\n    </tr>\n    <tr>\n      <th>1</th>\n      <td>Y</td>\n      <td>7.900023e+10</td>\n      <td>121020</td>\n      <td>652786.569683</td>\n    </tr>\n  </tbody>\n</table>\n</div>"
     },
     "execution_count": 24,
     "metadata": {},
     "output_type": "execute_result"
    }
   ],
   "source": [
    "%%time\n",
    "# 4. вывести общую сумму, количество и среднюю сумму, запрошенную клиентами в кредит с авто и без\n",
    "sql_query = '''\n",
    "SELECT FLAG_OWN_CAR, SUM(AMT_CREDIT) as SUM_AMT_CREDIT, COUNT(AMT_CREDIT) as COUNT_AMT_CREDIT, AVG(AMT_CREDIT) as AVG_AMT_CREDIT\n",
    "FROM train_test_data\n",
    "GROUP BY FLAG_OWN_CAR\n",
    "\n",
    "'''\n",
    "sql_connecter.get_df_from_query(sql_query)"
   ],
   "metadata": {
    "collapsed": false
   }
  },
  {
   "cell_type": "code",
   "execution_count": 26,
   "outputs": [
    {
     "name": "stderr",
     "output_type": "stream",
     "text": [
      "C:\\Users\\user\\Desktop\\SHIFT\\credit_scoring\\src\\app\\utils\\postgres_connector.py:38: UserWarning: pandas only supports SQLAlchemy connectable (engine/connection) or database string URI or sqlite3 DBAPI2 connection. Other DBAPI2 objects are not tested. Please consider using SQLAlchemy.\n",
      "  df = pd.read_sql(query, conn)\n"
     ]
    },
    {
     "name": "stdout",
     "output_type": "stream",
     "text": [
      "CPU times: total: 15.6 ms\n",
      "Wall time: 362 ms\n"
     ]
    },
    {
     "data": {
      "text/plain": "             name_education_type  proportion\n0                Academic degree    0.000575\n1               Higher education    0.245271\n2              Incomplete higher    0.033687\n3                Lower secondary    0.012045\n4  Secondary / secondary special    0.708422",
      "text/html": "<div>\n<style scoped>\n    .dataframe tbody tr th:only-of-type {\n        vertical-align: middle;\n    }\n\n    .dataframe tbody tr th {\n        vertical-align: top;\n    }\n\n    .dataframe thead th {\n        text-align: right;\n    }\n</style>\n<table border=\"1\" class=\"dataframe\">\n  <thead>\n    <tr style=\"text-align: right;\">\n      <th></th>\n      <th>name_education_type</th>\n      <th>proportion</th>\n    </tr>\n  </thead>\n  <tbody>\n    <tr>\n      <th>0</th>\n      <td>Academic degree</td>\n      <td>0.000575</td>\n    </tr>\n    <tr>\n      <th>1</th>\n      <td>Higher education</td>\n      <td>0.245271</td>\n    </tr>\n    <tr>\n      <th>2</th>\n      <td>Incomplete higher</td>\n      <td>0.033687</td>\n    </tr>\n    <tr>\n      <th>3</th>\n      <td>Lower secondary</td>\n      <td>0.012045</td>\n    </tr>\n    <tr>\n      <th>4</th>\n      <td>Secondary / secondary special</td>\n      <td>0.708422</td>\n    </tr>\n  </tbody>\n</table>\n</div>"
     },
     "execution_count": 26,
     "metadata": {},
     "output_type": "execute_result"
    }
   ],
   "source": [
    "%%time\n",
    "# 5. вывести доли клиентов с различным образованием\n",
    "sql_query = '''\n",
    "SELECT NAME_EDUCATION_TYPE, COUNT(NAME_EDUCATION_TYPE)/ (SELECT COUNT(NAME_EDUCATION_TYPE)  FROM train_test_data) :: real as proportion\n",
    "FROM train_test_data\n",
    "GROUP BY NAME_EDUCATION_TYPE\n",
    "\n",
    "'''\n",
    "sql_connecter.get_df_from_query(sql_query)"
   ],
   "metadata": {
    "collapsed": false
   }
  },
  {
   "cell_type": "code",
   "execution_count": 61,
   "outputs": [
    {
     "name": "stdout",
     "output_type": "stream",
     "text": [
      "CPU times: total: 0 ns\n",
      "Wall time: 176 ms\n"
     ]
    },
    {
     "name": "stderr",
     "output_type": "stream",
     "text": [
      "C:\\Users\\user\\Desktop\\SHIFT\\credit_scoring\\src\\app\\utils\\postgres_connector.py:38: UserWarning: pandas only supports SQLAlchemy connectable (engine/connection) or database string URI or sqlite3 DBAPI2 connection. Other DBAPI2 objects are not tested. Please consider using SQLAlchemy.\n",
      "  df = pd.read_sql(query, conn)\n"
     ]
    },
    {
     "data": {
      "text/plain": "   sk_id_curr  years_old\n0      417899         68\n1      311165         68\n2      408005         68\n3      238603         68\n4      381778         68\n5      400656         68\n6      254900         68\n7      175290         68\n8      265852         68\n9      371965         68",
      "text/html": "<div>\n<style scoped>\n    .dataframe tbody tr th:only-of-type {\n        vertical-align: middle;\n    }\n\n    .dataframe tbody tr th {\n        vertical-align: top;\n    }\n\n    .dataframe thead th {\n        text-align: right;\n    }\n</style>\n<table border=\"1\" class=\"dataframe\">\n  <thead>\n    <tr style=\"text-align: right;\">\n      <th></th>\n      <th>sk_id_curr</th>\n      <th>years_old</th>\n    </tr>\n  </thead>\n  <tbody>\n    <tr>\n      <th>0</th>\n      <td>417899</td>\n      <td>68</td>\n    </tr>\n    <tr>\n      <th>1</th>\n      <td>311165</td>\n      <td>68</td>\n    </tr>\n    <tr>\n      <th>2</th>\n      <td>408005</td>\n      <td>68</td>\n    </tr>\n    <tr>\n      <th>3</th>\n      <td>238603</td>\n      <td>68</td>\n    </tr>\n    <tr>\n      <th>4</th>\n      <td>381778</td>\n      <td>68</td>\n    </tr>\n    <tr>\n      <th>5</th>\n      <td>400656</td>\n      <td>68</td>\n    </tr>\n    <tr>\n      <th>6</th>\n      <td>254900</td>\n      <td>68</td>\n    </tr>\n    <tr>\n      <th>7</th>\n      <td>175290</td>\n      <td>68</td>\n    </tr>\n    <tr>\n      <th>8</th>\n      <td>265852</td>\n      <td>68</td>\n    </tr>\n    <tr>\n      <th>9</th>\n      <td>371965</td>\n      <td>68</td>\n    </tr>\n  </tbody>\n</table>\n</div>"
     },
     "execution_count": 61,
     "metadata": {},
     "output_type": "execute_result"
    }
   ],
   "source": [
    "%%time\n",
    "# 6. Подсчитать количество полных лет для клиентов, у которых есть во владении автомобиль и недвижимость.\n",
    "# вывести топ 10 по возрастанию\n",
    "\n",
    "# Проверил, чтобы проверить нужно превратить в вещественное при помощи ::real, например (-DAYS_BIRTH::real/365)\n",
    "\n",
    "sql_query = '''\n",
    "SELECT *\n",
    "FROM (SELECT SK_ID_CURR, (-DAYS_BIRTH/365) as years_old\n",
    "      FROM train_test_data\n",
    "      WHERE FLAG_OWN_CAR='Y' AND FLAG_OWN_REALTY='Y'\n",
    "      ORDER BY DAYS_BIRTH ASC\n",
    "      LIMIT 10) t1\n",
    "ORDER BY t1.years_old ASC\n",
    "'''\n",
    "sql_connecter.get_df_from_query(sql_query)"
   ],
   "metadata": {
    "collapsed": false
   }
  },
  {
   "cell_type": "code",
   "execution_count": 27,
   "outputs": [
    {
     "name": "stderr",
     "output_type": "stream",
     "text": [
      "C:\\Users\\user\\Desktop\\SHIFT\\credit_scoring\\src\\app\\utils\\postgres_connector.py:39: UserWarning: pandas only supports SQLAlchemy connectable (engine/connection) or database string URI or sqlite3 DBAPI2 connection. Other DBAPI2 objects are not tested. Please consider using SQLAlchemy.\n",
      "  df = pd.read_sql(query, conn)\n"
     ]
    },
    {
     "name": "stdout",
     "output_type": "stream",
     "text": [
      "CPU times: total: 15.6 ms\n",
      "Wall time: 391 ms\n"
     ]
    },
    {
     "data": {
      "text/plain": "       sk_id_curr  amt_income_total\n0          100002          202500.0\n1          100033          270000.0\n2          100053          202500.0\n3          100070          540000.0\n4          100079          225000.0\n...           ...               ...\n27728      455940          202500.0\n27729      455959          225000.0\n27730      456009          225000.0\n27731      456119          247500.0\n27732      456189          270000.0\n\n[27733 rows x 2 columns]",
      "text/html": "<div>\n<style scoped>\n    .dataframe tbody tr th:only-of-type {\n        vertical-align: middle;\n    }\n\n    .dataframe tbody tr th {\n        vertical-align: top;\n    }\n\n    .dataframe thead th {\n        text-align: right;\n    }\n</style>\n<table border=\"1\" class=\"dataframe\">\n  <thead>\n    <tr style=\"text-align: right;\">\n      <th></th>\n      <th>sk_id_curr</th>\n      <th>amt_income_total</th>\n    </tr>\n  </thead>\n  <tbody>\n    <tr>\n      <th>0</th>\n      <td>100002</td>\n      <td>202500.0</td>\n    </tr>\n    <tr>\n      <th>1</th>\n      <td>100033</td>\n      <td>270000.0</td>\n    </tr>\n    <tr>\n      <th>2</th>\n      <td>100053</td>\n      <td>202500.0</td>\n    </tr>\n    <tr>\n      <th>3</th>\n      <td>100070</td>\n      <td>540000.0</td>\n    </tr>\n    <tr>\n      <th>4</th>\n      <td>100079</td>\n      <td>225000.0</td>\n    </tr>\n    <tr>\n      <th>...</th>\n      <td>...</td>\n      <td>...</td>\n    </tr>\n    <tr>\n      <th>27728</th>\n      <td>455940</td>\n      <td>202500.0</td>\n    </tr>\n    <tr>\n      <th>27729</th>\n      <td>455959</td>\n      <td>225000.0</td>\n    </tr>\n    <tr>\n      <th>27730</th>\n      <td>456009</td>\n      <td>225000.0</td>\n    </tr>\n    <tr>\n      <th>27731</th>\n      <td>456119</td>\n      <td>247500.0</td>\n    </tr>\n    <tr>\n      <th>27732</th>\n      <td>456189</td>\n      <td>270000.0</td>\n    </tr>\n  </tbody>\n</table>\n<p>27733 rows × 2 columns</p>\n</div>"
     },
     "execution_count": 27,
     "metadata": {},
     "output_type": "execute_result"
    }
   ],
   "source": [
    "%%time\n",
    "# 7. вывести тех клиентов, у кого доход на одного члена семьи в два раза больше, чем в среднем на одного члена семьи по выборке\n",
    "sql_query = '''\n",
    "SELECT SK_ID_CURR, AMT_INCOME_TOTAL\n",
    "FROM train_test_data\n",
    "WHERE (AMT_INCOME_TOTAL/(CNT_FAM_MEMBERS)) > 2 * (\n",
    "    SELECT AVG(AMT_INCOME_TOTAL/(CNT_FAM_MEMBERS))\n",
    "    FROM train_test_data)\n",
    "'''\n",
    "sql_connecter.get_df_from_query(sql_query)\n"
   ],
   "metadata": {
    "collapsed": false
   }
  },
  {
   "cell_type": "code",
   "execution_count": 28,
   "outputs": [
    {
     "name": "stderr",
     "output_type": "stream",
     "text": [
      "C:\\Users\\user\\Desktop\\SHIFT\\credit_scoring\\src\\app\\utils\\postgres_connector.py:39: UserWarning: pandas only supports SQLAlchemy connectable (engine/connection) or database string URI or sqlite3 DBAPI2 connection. Other DBAPI2 objects are not tested. Please consider using SQLAlchemy.\n",
      "  df = pd.read_sql(query, conn)\n"
     ]
    },
    {
     "name": "stdout",
     "output_type": "stream",
     "text": [
      "CPU times: total: 0 ns\n",
      "Wall time: 1.43 s\n"
     ]
    },
    {
     "data": {
      "text/plain": "      sk_id_curr\n0         100118\n1         100236\n2         100273\n3         100287\n4         100413\n...          ...\n5051      453372\n5052      454405\n5053      454418\n5054      454612\n5055      456169\n\n[5056 rows x 1 columns]",
      "text/html": "<div>\n<style scoped>\n    .dataframe tbody tr th:only-of-type {\n        vertical-align: middle;\n    }\n\n    .dataframe tbody tr th {\n        vertical-align: top;\n    }\n\n    .dataframe thead th {\n        text-align: right;\n    }\n</style>\n<table border=\"1\" class=\"dataframe\">\n  <thead>\n    <tr style=\"text-align: right;\">\n      <th></th>\n      <th>sk_id_curr</th>\n    </tr>\n  </thead>\n  <tbody>\n    <tr>\n      <th>0</th>\n      <td>100118</td>\n    </tr>\n    <tr>\n      <th>1</th>\n      <td>100236</td>\n    </tr>\n    <tr>\n      <th>2</th>\n      <td>100273</td>\n    </tr>\n    <tr>\n      <th>3</th>\n      <td>100287</td>\n    </tr>\n    <tr>\n      <th>4</th>\n      <td>100413</td>\n    </tr>\n    <tr>\n      <th>...</th>\n      <td>...</td>\n    </tr>\n    <tr>\n      <th>5051</th>\n      <td>453372</td>\n    </tr>\n    <tr>\n      <th>5052</th>\n      <td>454405</td>\n    </tr>\n    <tr>\n      <th>5053</th>\n      <td>454418</td>\n    </tr>\n    <tr>\n      <th>5054</th>\n      <td>454612</td>\n    </tr>\n    <tr>\n      <th>5055</th>\n      <td>456169</td>\n    </tr>\n  </tbody>\n</table>\n<p>5056 rows × 1 columns</p>\n</div>"
     },
     "execution_count": 28,
     "metadata": {},
     "output_type": "execute_result"
    }
   ],
   "source": [
    "%%time\n",
    "# 8. вывести клиентов старше 60 лет по которым нет данных в bureau\n",
    "sql_query = '''\n",
    "SELECT SK_ID_CURR\n",
    "FROM train_test_data\n",
    "WHERE (-DAYS_BIRTH/365) > 60 AND  SK_ID_CURR NOT IN (\n",
    "    SELECT DISTINCT SK_ID_CURR\n",
    "    FROM bureau)\n",
    "'''\n",
    "sql_connecter.get_df_from_query(sql_query)\n"
   ],
   "metadata": {
    "collapsed": false
   }
  },
  {
   "cell_type": "markdown",
   "source": [
    "Для запроса нужна таблица bureau_balance, так что импортируем её"
   ],
   "metadata": {
    "collapsed": false
   }
  },
  {
   "cell_type": "markdown",
   "source": [
    "## bureau_balance"
   ],
   "metadata": {
    "collapsed": false
   }
  },
  {
   "cell_type": "code",
   "execution_count": 42,
   "outputs": [
    {
     "name": "stdout",
     "output_type": "stream",
     "text": [
      "CPU times: total: 15.6 ms\n",
      "Wall time: 182 ms\n"
     ]
    }
   ],
   "source": [
    "%%time\n",
    "sql_schema_query = \"\"\"\n",
    "    DROP TABLE IF EXISTS bureau_balance;\n",
    "    CREATE TABLE bureau_balance(\n",
    "      SK_ID_BUREAU integer,\n",
    "      MONTHS_BALANCE integer,\n",
    "      STATUS varchar(1)\n",
    "      )\n",
    "\"\"\"\n",
    "sql_connecter.send_sql_query(sql_schema_query)"
   ],
   "metadata": {
    "collapsed": false
   }
  },
  {
   "cell_type": "code",
   "execution_count": 43,
   "outputs": [
    {
     "name": "stdout",
     "output_type": "stream",
     "text": [
      "CPU times: total: 0 ns\n",
      "Wall time: 21.7 s\n"
     ]
    }
   ],
   "source": [
    "%%time\n",
    "sql_data_query = f\"\"\"\n",
    "COPY bureau_balance(\n",
    "  SK_ID_BUREAU,\n",
    "  MONTHS_BALANCE,\n",
    "  STATUS\n",
    "  )\n",
    "FROM '{data_full_path}bureau_balance.csv' DELIMITER ',' CSV HEADER;\n",
    "\"\"\"\n",
    "sql_connecter.send_sql_query(sql_data_query)"
   ],
   "metadata": {
    "collapsed": false
   }
  },
  {
   "cell_type": "markdown",
   "source": [
    "Проверим работоспособность"
   ],
   "metadata": {
    "collapsed": false
   }
  },
  {
   "cell_type": "code",
   "execution_count": 44,
   "outputs": [
    {
     "name": "stdout",
     "output_type": "stream",
     "text": [
      "CPU times: total: 15.6 ms\n",
      "Wall time: 74.3 ms\n"
     ]
    },
    {
     "name": "stderr",
     "output_type": "stream",
     "text": [
      "C:\\Users\\user\\Desktop\\SHIFT\\credit_scoring\\src\\app\\utils\\postgres_connector.py:38: UserWarning: pandas only supports SQLAlchemy connectable (engine/connection) or database string URI or sqlite3 DBAPI2 connection. Other DBAPI2 objects are not tested. Please consider using SQLAlchemy.\n",
      "  df = pd.read_sql(query, conn)\n"
     ]
    },
    {
     "data": {
      "text/plain": "   sk_id_bureau  months_balance status\n0       5715448               0      C\n1       5715448              -1      C\n2       5715448              -2      C",
      "text/html": "<div>\n<style scoped>\n    .dataframe tbody tr th:only-of-type {\n        vertical-align: middle;\n    }\n\n    .dataframe tbody tr th {\n        vertical-align: top;\n    }\n\n    .dataframe thead th {\n        text-align: right;\n    }\n</style>\n<table border=\"1\" class=\"dataframe\">\n  <thead>\n    <tr style=\"text-align: right;\">\n      <th></th>\n      <th>sk_id_bureau</th>\n      <th>months_balance</th>\n      <th>status</th>\n    </tr>\n  </thead>\n  <tbody>\n    <tr>\n      <th>0</th>\n      <td>5715448</td>\n      <td>0</td>\n      <td>C</td>\n    </tr>\n    <tr>\n      <th>1</th>\n      <td>5715448</td>\n      <td>-1</td>\n      <td>C</td>\n    </tr>\n    <tr>\n      <th>2</th>\n      <td>5715448</td>\n      <td>-2</td>\n      <td>C</td>\n    </tr>\n  </tbody>\n</table>\n</div>"
     },
     "execution_count": 44,
     "metadata": {},
     "output_type": "execute_result"
    }
   ],
   "source": [
    "%%time\n",
    "test_sql = '''\n",
    "SELECT * FROM bureau_balance\n",
    "LIMIT 3\n",
    "'''\n",
    "sql_connecter.get_df_from_query(test_sql)"
   ],
   "metadata": {
    "collapsed": false
   }
  },
  {
   "cell_type": "code",
   "execution_count": 58,
   "outputs": [
    {
     "name": "stderr",
     "output_type": "stream",
     "text": [
      "C:\\Users\\user\\Desktop\\SHIFT\\credit_scoring\\src\\app\\utils\\postgres_connector.py:38: UserWarning: pandas only supports SQLAlchemy connectable (engine/connection) or database string URI or sqlite3 DBAPI2 connection. Other DBAPI2 objects are not tested. Please consider using SQLAlchemy.\n",
      "  df = pd.read_sql(query, conn)\n"
     ]
    },
    {
     "name": "stdout",
     "output_type": "stream",
     "text": [
      "CPU times: total: 15.6 ms\n",
      "Wall time: 2.15 s\n"
     ]
    },
    {
     "data": {
      "text/plain": "     sk_id_curr  amount_of_overdue_over_61_day\n0        279826                             14\n1        441227                             13\n2        246788                             13\n3        129529                             10\n4        164862                             10\n..          ...                            ...\n335      184667                              3\n336      182879                              3\n337      394391                              3\n338      272607                              3\n339      396989                              3\n\n[340 rows x 2 columns]",
      "text/html": "<div>\n<style scoped>\n    .dataframe tbody tr th:only-of-type {\n        vertical-align: middle;\n    }\n\n    .dataframe tbody tr th {\n        vertical-align: top;\n    }\n\n    .dataframe thead th {\n        text-align: right;\n    }\n</style>\n<table border=\"1\" class=\"dataframe\">\n  <thead>\n    <tr style=\"text-align: right;\">\n      <th></th>\n      <th>sk_id_curr</th>\n      <th>amount_of_overdue_over_61_day</th>\n    </tr>\n  </thead>\n  <tbody>\n    <tr>\n      <th>0</th>\n      <td>279826</td>\n      <td>14</td>\n    </tr>\n    <tr>\n      <th>1</th>\n      <td>441227</td>\n      <td>13</td>\n    </tr>\n    <tr>\n      <th>2</th>\n      <td>246788</td>\n      <td>13</td>\n    </tr>\n    <tr>\n      <th>3</th>\n      <td>129529</td>\n      <td>10</td>\n    </tr>\n    <tr>\n      <th>4</th>\n      <td>164862</td>\n      <td>10</td>\n    </tr>\n    <tr>\n      <th>...</th>\n      <td>...</td>\n      <td>...</td>\n    </tr>\n    <tr>\n      <th>335</th>\n      <td>184667</td>\n      <td>3</td>\n    </tr>\n    <tr>\n      <th>336</th>\n      <td>182879</td>\n      <td>3</td>\n    </tr>\n    <tr>\n      <th>337</th>\n      <td>394391</td>\n      <td>3</td>\n    </tr>\n    <tr>\n      <th>338</th>\n      <td>272607</td>\n      <td>3</td>\n    </tr>\n    <tr>\n      <th>339</th>\n      <td>396989</td>\n      <td>3</td>\n    </tr>\n  </tbody>\n</table>\n<p>340 rows × 2 columns</p>\n</div>"
     },
     "execution_count": 58,
     "metadata": {},
     "output_type": "execute_result"
    }
   ],
   "source": [
    "%%time\n",
    "# 9. вывести женщин, у которых в истории bureau было больше двух кредитов, просроченных на 61 день и более\n",
    "# отсортировать в порядке убывания по кол-ву таких кредитов\n",
    "sql_query = '''\n",
    "SELECT t1.SK_ID_CURR, t1.AMOUNT_OF_OVERDUE_OVER_61_DAY\n",
    "FROM (\n",
    "    SELECT SK_ID_CURR, COUNT(SK_ID_BUREAU) as AMOUNT_OF_OVERDUE_OVER_61_DAY\n",
    "    FROM bureau\n",
    "    WHERE SK_ID_BUREAU in (\n",
    "        SELECT DISTINCT SK_ID_BUREAU\n",
    "        FROM bureau_balance\n",
    "        WHERE STATUS = '3' or STATUS = '4' or STATUS = '5'\n",
    "    ) AND SK_ID_CURR in (\n",
    "        SELECT SK_ID_CURR\n",
    "        FROM train_test_data\n",
    "        WHERE CODE_GENDER='F'\n",
    "        )\n",
    "    GROUP BY SK_ID_CURR\n",
    ") t1\n",
    "WHERE t1.AMOUNT_OF_OVERDUE_OVER_61_DAY > 2\n",
    "ORDER BY t1.AMOUNT_OF_OVERDUE_OVER_61_DAY DESC\n",
    "'''\n",
    "sql_connecter.get_df_from_query(sql_query)"
   ],
   "metadata": {
    "collapsed": false
   }
  },
  {
   "cell_type": "code",
   "execution_count": 86,
   "outputs": [
    {
     "name": "stderr",
     "output_type": "stream",
     "text": [
      "C:\\Users\\user\\Desktop\\SHIFT\\credit_scoring\\src\\app\\utils\\postgres_connector.py:38: UserWarning: pandas only supports SQLAlchemy connectable (engine/connection) or database string URI or sqlite3 DBAPI2 connection. Other DBAPI2 objects are not tested. Please consider using SQLAlchemy.\n",
      "  df = pd.read_sql(query, conn)\n"
     ]
    },
    {
     "name": "stdout",
     "output_type": "stream",
     "text": [
      "CPU times: total: 0 ns\n",
      "Wall time: 2.29 s\n"
     ]
    },
    {
     "data": {
      "text/plain": "   sk_id_curr  sum_of_overdue  proportion_of_overdue  sum_of_active_credits  \\\n0      435405      3681063.00               0.908008              3690000.0   \n1      427996      2901294.00               0.390400              4231615.5   \n2      394113      1332472.50               0.729802              1530000.0   \n3      266765      1224474.90               0.861121              1350000.0   \n4      167085       780192.00               4.422744               158404.5   \n5      154595       742491.00               0.174878               990000.0   \n6      262411       709669.25               0.349513              1318500.0   \n\n   sum_of_all_credits  \n0           4054000.5  \n1           7431583.5  \n2           1825801.0  \n3           1421955.0  \n4            176404.5  \n5           4245754.5  \n6           1773000.0  ",
      "text/html": "<div>\n<style scoped>\n    .dataframe tbody tr th:only-of-type {\n        vertical-align: middle;\n    }\n\n    .dataframe tbody tr th {\n        vertical-align: top;\n    }\n\n    .dataframe thead th {\n        text-align: right;\n    }\n</style>\n<table border=\"1\" class=\"dataframe\">\n  <thead>\n    <tr style=\"text-align: right;\">\n      <th></th>\n      <th>sk_id_curr</th>\n      <th>sum_of_overdue</th>\n      <th>proportion_of_overdue</th>\n      <th>sum_of_active_credits</th>\n      <th>sum_of_all_credits</th>\n    </tr>\n  </thead>\n  <tbody>\n    <tr>\n      <th>0</th>\n      <td>435405</td>\n      <td>3681063.00</td>\n      <td>0.908008</td>\n      <td>3690000.0</td>\n      <td>4054000.5</td>\n    </tr>\n    <tr>\n      <th>1</th>\n      <td>427996</td>\n      <td>2901294.00</td>\n      <td>0.390400</td>\n      <td>4231615.5</td>\n      <td>7431583.5</td>\n    </tr>\n    <tr>\n      <th>2</th>\n      <td>394113</td>\n      <td>1332472.50</td>\n      <td>0.729802</td>\n      <td>1530000.0</td>\n      <td>1825801.0</td>\n    </tr>\n    <tr>\n      <th>3</th>\n      <td>266765</td>\n      <td>1224474.90</td>\n      <td>0.861121</td>\n      <td>1350000.0</td>\n      <td>1421955.0</td>\n    </tr>\n    <tr>\n      <th>4</th>\n      <td>167085</td>\n      <td>780192.00</td>\n      <td>4.422744</td>\n      <td>158404.5</td>\n      <td>176404.5</td>\n    </tr>\n    <tr>\n      <th>5</th>\n      <td>154595</td>\n      <td>742491.00</td>\n      <td>0.174878</td>\n      <td>990000.0</td>\n      <td>4245754.5</td>\n    </tr>\n    <tr>\n      <th>6</th>\n      <td>262411</td>\n      <td>709669.25</td>\n      <td>0.349513</td>\n      <td>1318500.0</td>\n      <td>1773000.0</td>\n    </tr>\n  </tbody>\n</table>\n</div>"
     },
     "execution_count": 86,
     "metadata": {},
     "output_type": "execute_result"
    }
   ],
   "source": [
    "%%time\n",
    "# 10. по данным из bureau (БКИ) рассчитать долю просрочки в активных займах для каждого клиента\n",
    "# вывести топ 7 мужчин с наибольшей суммой просрочки, указав для них, помимо прочего,\n",
    "# сумму активных кредитов и суммы всех кредитов (активных и закрытых).\n",
    "\n",
    "# WHERE AMT_CREDIT_SUM <> 0 это значит что у него нет кредитов и он не попадёт в выборку\n",
    "\n",
    "sql_query = '''\n",
    "SELECT t1.SK_ID_CURR, t3.SUM_OF_OVERDUE, t1.PROPORTION_OF_OVERDUE, t2.SUM_OF_ACTIVE_CREDITS, t3.SUM_OF_ALL_CREDITS\n",
    "FROM (\n",
    "    SELECT SK_ID_CURR, SUM(AMT_CREDIT_SUM_OVERDUE) / SUM(AMT_CREDIT_SUM) AS PROPORTION_OF_OVERDUE\n",
    "    FROM bureau\n",
    "    WHERE AMT_CREDIT_SUM <> 0\n",
    "    GROUP BY SK_ID_CURR\n",
    ") t1\n",
    "INNER JOIN  (\n",
    "    SELECT SK_ID_CURR, SUM(AMT_CREDIT_SUM) AS SUM_OF_ACTIVE_CREDITS\n",
    "    FROM bureau\n",
    "    WHERE CREDIT_ACTIVE = 'Active'\n",
    "    GROUP BY SK_ID_CURR\n",
    ") t2 ON (t1.SK_ID_CURR=t2.SK_ID_CURR)\n",
    "INNER JOIN (\n",
    "    SELECT SK_ID_CURR, SUM(AMT_CREDIT_SUM) AS SUM_OF_ALL_CREDITS, SUM(AMT_CREDIT_SUM_OVERDUE) AS SUM_OF_OVERDUE\n",
    "    FROM bureau\n",
    "    GROUP BY SK_ID_CURR\n",
    ") t3 ON (t2.SK_ID_CURR=t3.SK_ID_CURR)\n",
    "WHERE t1.SK_ID_CURR IN (\n",
    "    SELECT SK_ID_CURR\n",
    "    FROM train_test_data\n",
    "    WHERE  CODE_GENDER = 'M')\n",
    "ORDER BY t3.SUM_OF_OVERDUE DESC\n",
    "LIMIT 7\n",
    "\n",
    "'''\n",
    "sql_connecter.get_df_from_query(sql_query)"
   ],
   "metadata": {
    "collapsed": false
   }
  },
  {
   "cell_type": "markdown",
   "source": [
    "# Импорт таблиц оставшихся"
   ],
   "metadata": {
    "collapsed": false
   }
  },
  {
   "cell_type": "markdown",
   "source": [
    "## credit_card_balance"
   ],
   "metadata": {
    "collapsed": false
   }
  },
  {
   "cell_type": "code",
   "execution_count": 34,
   "outputs": [
    {
     "name": "stdout",
     "output_type": "stream",
     "text": [
      "CPU times: total: 0 ns\n",
      "Wall time: 179 ms\n"
     ]
    }
   ],
   "source": [
    "%%time\n",
    "sql_schema_query = \"\"\"\n",
    "    DROP TABLE IF EXISTS credit_card_balance;\n",
    "    CREATE TABLE credit_card_balance(\n",
    "      SK_ID_PREV integer,\n",
    "      SK_ID_CURR integer,\n",
    "      MONTHS_BALANCE integer,\n",
    "      AMT_BALANCE real,\n",
    "      AMT_CREDIT_LIMIT_ACTUAL integer,\n",
    "      AMT_DRAWINGS_ATM_CURRENT real,\n",
    "      AMT_DRAWINGS_CURRENT real,\n",
    "      AMT_DRAWINGS_OTHER_CURRENT real,\n",
    "      AMT_DRAWINGS_POS_CURRENT real,\n",
    "      AMT_INST_MIN_REGULARITY real,\n",
    "      AMT_PAYMENT_CURRENT real,\n",
    "      AMT_PAYMENT_TOTAL_CURRENT real,\n",
    "      AMT_RECEIVABLE_PRINCIPAL real,\n",
    "      AMT_RECIVABLE real,\n",
    "      AMT_TOTAL_RECEIVABLE real,\n",
    "      CNT_DRAWINGS_ATM_CURRENT real,\n",
    "      CNT_DRAWINGS_CURRENT smallint,\n",
    "      CNT_DRAWINGS_OTHER_CURRENT real,\n",
    "      CNT_DRAWINGS_POS_CURRENT real,\n",
    "      CNT_INSTALMENT_MATURE_CUM real,\n",
    "      NAME_CONTRACT_STATUS varchar(13),\n",
    "      SK_DPD smallint,\n",
    "      SK_DPD_DEF smallint\n",
    "      )\n",
    "\"\"\"\n",
    "sql_connecter.send_sql_query(sql_schema_query)"
   ],
   "metadata": {
    "collapsed": false
   }
  },
  {
   "cell_type": "code",
   "execution_count": 35,
   "outputs": [
    {
     "name": "stdout",
     "output_type": "stream",
     "text": [
      "CPU times: total: 0 ns\n",
      "Wall time: 17.8 s\n"
     ]
    }
   ],
   "source": [
    "%%time\n",
    "sql_data_query = f\"\"\"\n",
    "COPY credit_card_balance(\n",
    "  SK_ID_PREV,\n",
    "  SK_ID_CURR,\n",
    "  MONTHS_BALANCE,\n",
    "  AMT_BALANCE,\n",
    "  AMT_CREDIT_LIMIT_ACTUAL,\n",
    "  AMT_DRAWINGS_ATM_CURRENT,\n",
    "  AMT_DRAWINGS_CURRENT,\n",
    "  AMT_DRAWINGS_OTHER_CURRENT,\n",
    "  AMT_DRAWINGS_POS_CURRENT,\n",
    "  AMT_INST_MIN_REGULARITY,\n",
    "  AMT_PAYMENT_CURRENT,\n",
    "  AMT_PAYMENT_TOTAL_CURRENT,\n",
    "  AMT_RECEIVABLE_PRINCIPAL,\n",
    "  AMT_RECIVABLE,\n",
    "  AMT_TOTAL_RECEIVABLE,\n",
    "  CNT_DRAWINGS_ATM_CURRENT,\n",
    "  CNT_DRAWINGS_CURRENT,\n",
    "  CNT_DRAWINGS_OTHER_CURRENT,\n",
    "  CNT_DRAWINGS_POS_CURRENT,\n",
    "  CNT_INSTALMENT_MATURE_CUM,\n",
    "  NAME_CONTRACT_STATUS,\n",
    "  SK_DPD,\n",
    "  SK_DPD_DEF\n",
    "  )\n",
    "FROM '{data_full_path}credit_card_balance.csv' DELIMITER ',' CSV HEADER;\n",
    "\"\"\"\n",
    "sql_connecter.send_sql_query(sql_data_query)"
   ],
   "metadata": {
    "collapsed": false
   }
  },
  {
   "cell_type": "markdown",
   "source": [
    "Проверим"
   ],
   "metadata": {
    "collapsed": false
   }
  },
  {
   "cell_type": "code",
   "execution_count": 36,
   "outputs": [
    {
     "name": "stdout",
     "output_type": "stream",
     "text": [
      "CPU times: total: 15.6 ms\n",
      "Wall time: 74.5 ms\n"
     ]
    },
    {
     "name": "stderr",
     "output_type": "stream",
     "text": [
      "C:\\Users\\user\\Desktop\\SHIFT\\credit_scoring\\src\\app\\utils\\postgres_connector.py:39: UserWarning: pandas only supports SQLAlchemy connectable (engine/connection) or database string URI or sqlite3 DBAPI2 connection. Other DBAPI2 objects are not tested. Please consider using SQLAlchemy.\n",
      "  df = pd.read_sql(query, conn)\n"
     ]
    },
    {
     "data": {
      "text/plain": "   sk_id_prev  sk_id_curr  months_balance  amt_balance  \\\n0     2562384      378907              -6       56.970   \n1     2582071      363914              -1    63975.555   \n2     1740877      371185              -7    31815.225   \n\n   amt_credit_limit_actual  amt_drawings_atm_current  amt_drawings_current  \\\n0                   135000                       0.0                 877.5   \n1                    45000                    2250.0                2250.0   \n2                   450000                       0.0                   0.0   \n\n   amt_drawings_other_current  amt_drawings_pos_current  \\\n0                         0.0                     877.5   \n1                         0.0                       0.0   \n2                         0.0                       0.0   \n\n   amt_inst_min_regularity  ...  amt_recivable  amt_total_receivable  \\\n0                 1700.325  ...          0.000                 0.000   \n1                 2250.000  ...      64875.555             64875.555   \n2                 2250.000  ...      31460.086             31460.086   \n\n   cnt_drawings_atm_current  cnt_drawings_current  cnt_drawings_other_current  \\\n0                       0.0                     1                         0.0   \n1                       1.0                     1                         0.0   \n2                       0.0                     0                         0.0   \n\n   cnt_drawings_pos_current  cnt_instalment_mature_cum  name_contract_status  \\\n0                       1.0                       35.0                Active   \n1                       0.0                       69.0                Active   \n2                       0.0                       30.0                Active   \n\n   sk_dpd  sk_dpd_def  \n0       0           0  \n1       0           0  \n2       0           0  \n\n[3 rows x 23 columns]",
      "text/html": "<div>\n<style scoped>\n    .dataframe tbody tr th:only-of-type {\n        vertical-align: middle;\n    }\n\n    .dataframe tbody tr th {\n        vertical-align: top;\n    }\n\n    .dataframe thead th {\n        text-align: right;\n    }\n</style>\n<table border=\"1\" class=\"dataframe\">\n  <thead>\n    <tr style=\"text-align: right;\">\n      <th></th>\n      <th>sk_id_prev</th>\n      <th>sk_id_curr</th>\n      <th>months_balance</th>\n      <th>amt_balance</th>\n      <th>amt_credit_limit_actual</th>\n      <th>amt_drawings_atm_current</th>\n      <th>amt_drawings_current</th>\n      <th>amt_drawings_other_current</th>\n      <th>amt_drawings_pos_current</th>\n      <th>amt_inst_min_regularity</th>\n      <th>...</th>\n      <th>amt_recivable</th>\n      <th>amt_total_receivable</th>\n      <th>cnt_drawings_atm_current</th>\n      <th>cnt_drawings_current</th>\n      <th>cnt_drawings_other_current</th>\n      <th>cnt_drawings_pos_current</th>\n      <th>cnt_instalment_mature_cum</th>\n      <th>name_contract_status</th>\n      <th>sk_dpd</th>\n      <th>sk_dpd_def</th>\n    </tr>\n  </thead>\n  <tbody>\n    <tr>\n      <th>0</th>\n      <td>2562384</td>\n      <td>378907</td>\n      <td>-6</td>\n      <td>56.970</td>\n      <td>135000</td>\n      <td>0.0</td>\n      <td>877.5</td>\n      <td>0.0</td>\n      <td>877.5</td>\n      <td>1700.325</td>\n      <td>...</td>\n      <td>0.000</td>\n      <td>0.000</td>\n      <td>0.0</td>\n      <td>1</td>\n      <td>0.0</td>\n      <td>1.0</td>\n      <td>35.0</td>\n      <td>Active</td>\n      <td>0</td>\n      <td>0</td>\n    </tr>\n    <tr>\n      <th>1</th>\n      <td>2582071</td>\n      <td>363914</td>\n      <td>-1</td>\n      <td>63975.555</td>\n      <td>45000</td>\n      <td>2250.0</td>\n      <td>2250.0</td>\n      <td>0.0</td>\n      <td>0.0</td>\n      <td>2250.000</td>\n      <td>...</td>\n      <td>64875.555</td>\n      <td>64875.555</td>\n      <td>1.0</td>\n      <td>1</td>\n      <td>0.0</td>\n      <td>0.0</td>\n      <td>69.0</td>\n      <td>Active</td>\n      <td>0</td>\n      <td>0</td>\n    </tr>\n    <tr>\n      <th>2</th>\n      <td>1740877</td>\n      <td>371185</td>\n      <td>-7</td>\n      <td>31815.225</td>\n      <td>450000</td>\n      <td>0.0</td>\n      <td>0.0</td>\n      <td>0.0</td>\n      <td>0.0</td>\n      <td>2250.000</td>\n      <td>...</td>\n      <td>31460.086</td>\n      <td>31460.086</td>\n      <td>0.0</td>\n      <td>0</td>\n      <td>0.0</td>\n      <td>0.0</td>\n      <td>30.0</td>\n      <td>Active</td>\n      <td>0</td>\n      <td>0</td>\n    </tr>\n  </tbody>\n</table>\n<p>3 rows × 23 columns</p>\n</div>"
     },
     "execution_count": 36,
     "metadata": {},
     "output_type": "execute_result"
    }
   ],
   "source": [
    "%%time\n",
    "test_sql = '''\n",
    "SELECT * FROM credit_card_balance\n",
    "LIMIT 3\n",
    "'''\n",
    "sql_connecter.get_df_from_query(test_sql)"
   ],
   "metadata": {
    "collapsed": false
   }
  },
  {
   "cell_type": "markdown",
   "source": [
    "## installments_payments"
   ],
   "metadata": {
    "collapsed": false
   }
  },
  {
   "cell_type": "code",
   "execution_count": 37,
   "outputs": [
    {
     "name": "stdout",
     "output_type": "stream",
     "text": [
      "CPU times: total: 15.6 ms\n",
      "Wall time: 74.8 ms\n"
     ]
    }
   ],
   "source": [
    "%%time\n",
    "sql_schema_query = \"\"\"\n",
    "    DROP TABLE IF EXISTS installments_payments;\n",
    "    CREATE TABLE installments_payments(\n",
    "        SK_ID_PREV  integer,\n",
    "        SK_ID_CURR  integer,\n",
    "        NUM_INSTALMENT_VERSION real,\n",
    "        NUM_INSTALMENT_NUMBER  integer,\n",
    "        DAYS_INSTALMENT real,\n",
    "        DAYS_ENTRY_PAYMENT real,\n",
    "        AMT_INSTALMENT real,\n",
    "        AMT_PAYMENT real\n",
    "      )\n",
    "\"\"\"\n",
    "sql_connecter.send_sql_query(sql_schema_query)"
   ],
   "metadata": {
    "collapsed": false
   }
  },
  {
   "cell_type": "code",
   "execution_count": 38,
   "outputs": [
    {
     "name": "stdout",
     "output_type": "stream",
     "text": [
      "CPU times: total: 0 ns\n",
      "Wall time: 29.7 s\n"
     ]
    }
   ],
   "source": [
    "%%time\n",
    "sql_data_query = f\"\"\"\n",
    "    COPY installments_payments(\n",
    "        SK_ID_PREV,\n",
    "        SK_ID_CURR,\n",
    "        NUM_INSTALMENT_VERSION,\n",
    "        NUM_INSTALMENT_NUMBER,\n",
    "        DAYS_INSTALMENT,\n",
    "        DAYS_ENTRY_PAYMENT,\n",
    "        AMT_INSTALMENT,\n",
    "        AMT_PAYMENT\n",
    "      )\n",
    "    FROM '{data_full_path}installments_payments.csv' DELIMITER ',' CSV HEADER;\n",
    "\"\"\"\n",
    "sql_connecter.send_sql_query(sql_data_query)"
   ],
   "metadata": {
    "collapsed": false
   }
  },
  {
   "cell_type": "markdown",
   "source": [
    "Проверим"
   ],
   "metadata": {
    "collapsed": false
   }
  },
  {
   "cell_type": "code",
   "execution_count": 39,
   "outputs": [
    {
     "name": "stdout",
     "output_type": "stream",
     "text": [
      "CPU times: total: 15.6 ms\n",
      "Wall time: 71 ms\n"
     ]
    },
    {
     "name": "stderr",
     "output_type": "stream",
     "text": [
      "C:\\Users\\user\\Desktop\\SHIFT\\credit_scoring\\src\\app\\utils\\postgres_connector.py:39: UserWarning: pandas only supports SQLAlchemy connectable (engine/connection) or database string URI or sqlite3 DBAPI2 connection. Other DBAPI2 objects are not tested. Please consider using SQLAlchemy.\n",
      "  df = pd.read_sql(query, conn)\n"
     ]
    },
    {
     "data": {
      "text/plain": "   sk_id_prev  sk_id_curr  num_instalment_version  num_instalment_number  \\\n0     1054186      161674                     1.0                      6   \n1     1330831      151639                     0.0                     34   \n2     2085231      193053                     2.0                      1   \n\n   days_instalment  days_entry_payment  amt_instalment  amt_payment  \n0          -1180.0             -1187.0        6948.360     6948.360  \n1          -2156.0             -2156.0        1716.525     1716.525  \n2            -63.0               -63.0       25425.000    25425.000  ",
      "text/html": "<div>\n<style scoped>\n    .dataframe tbody tr th:only-of-type {\n        vertical-align: middle;\n    }\n\n    .dataframe tbody tr th {\n        vertical-align: top;\n    }\n\n    .dataframe thead th {\n        text-align: right;\n    }\n</style>\n<table border=\"1\" class=\"dataframe\">\n  <thead>\n    <tr style=\"text-align: right;\">\n      <th></th>\n      <th>sk_id_prev</th>\n      <th>sk_id_curr</th>\n      <th>num_instalment_version</th>\n      <th>num_instalment_number</th>\n      <th>days_instalment</th>\n      <th>days_entry_payment</th>\n      <th>amt_instalment</th>\n      <th>amt_payment</th>\n    </tr>\n  </thead>\n  <tbody>\n    <tr>\n      <th>0</th>\n      <td>1054186</td>\n      <td>161674</td>\n      <td>1.0</td>\n      <td>6</td>\n      <td>-1180.0</td>\n      <td>-1187.0</td>\n      <td>6948.360</td>\n      <td>6948.360</td>\n    </tr>\n    <tr>\n      <th>1</th>\n      <td>1330831</td>\n      <td>151639</td>\n      <td>0.0</td>\n      <td>34</td>\n      <td>-2156.0</td>\n      <td>-2156.0</td>\n      <td>1716.525</td>\n      <td>1716.525</td>\n    </tr>\n    <tr>\n      <th>2</th>\n      <td>2085231</td>\n      <td>193053</td>\n      <td>2.0</td>\n      <td>1</td>\n      <td>-63.0</td>\n      <td>-63.0</td>\n      <td>25425.000</td>\n      <td>25425.000</td>\n    </tr>\n  </tbody>\n</table>\n</div>"
     },
     "execution_count": 39,
     "metadata": {},
     "output_type": "execute_result"
    }
   ],
   "source": [
    "%%time\n",
    "test_sql = '''\n",
    "    SELECT * FROM installments_payments\n",
    "    LIMIT 3\n",
    "'''\n",
    "sql_connecter.get_df_from_query(test_sql)"
   ],
   "metadata": {
    "collapsed": false
   }
  },
  {
   "cell_type": "markdown",
   "source": [
    "## POS_CASH_balance"
   ],
   "metadata": {
    "collapsed": false
   }
  },
  {
   "cell_type": "code",
   "execution_count": 40,
   "outputs": [
    {
     "name": "stdout",
     "output_type": "stream",
     "text": [
      "CPU times: total: 15.6 ms\n",
      "Wall time: 73 ms\n"
     ]
    }
   ],
   "source": [
    "%%time\n",
    "sql_schema_query = \"\"\"\n",
    "    DROP TABLE IF EXISTS pos_cash_balance;\n",
    "    CREATE TABLE pos_cash_balance(\n",
    "        SK_ID_PREV integer,\n",
    "        SK_ID_CURR integer,\n",
    "        MONTHS_BALANCE integer,\n",
    "        CNT_INSTALMENT real,\n",
    "        CNT_INSTALMENT_FUTURE real,\n",
    "        NAME_CONTRACT_STATUS varchar(21),\n",
    "        SK_DPD integer,\n",
    "        SK_DPD_DEF integer\n",
    "      )\n",
    "\"\"\"\n",
    "sql_connecter.send_sql_query(sql_schema_query)"
   ],
   "metadata": {
    "collapsed": false
   }
  },
  {
   "cell_type": "code",
   "execution_count": 41,
   "outputs": [
    {
     "name": "stdout",
     "output_type": "stream",
     "text": [
      "CPU times: total: 0 ns\n",
      "Wall time: 19.6 s\n"
     ]
    }
   ],
   "source": [
    "%%time\n",
    "sql_data_query = f\"\"\"\n",
    "    COPY pos_cash_balance(\n",
    "        SK_ID_PREV,\n",
    "        SK_ID_CURR,\n",
    "        MONTHS_BALANCE,\n",
    "        CNT_INSTALMENT,\n",
    "        CNT_INSTALMENT_FUTURE,\n",
    "        NAME_CONTRACT_STATUS,\n",
    "        SK_DPD,\n",
    "        SK_DPD_DEF\n",
    "      )\n",
    "    FROM '{data_full_path}POS_CASH_balance.csv' DELIMITER ',' CSV HEADER;\n",
    "\"\"\"\n",
    "sql_connecter.send_sql_query(sql_data_query)"
   ],
   "metadata": {
    "collapsed": false
   }
  },
  {
   "cell_type": "code",
   "execution_count": 42,
   "outputs": [
    {
     "name": "stdout",
     "output_type": "stream",
     "text": [
      "CPU times: total: 0 ns\n",
      "Wall time: 72.8 ms\n"
     ]
    },
    {
     "name": "stderr",
     "output_type": "stream",
     "text": [
      "C:\\Users\\user\\Desktop\\SHIFT\\credit_scoring\\src\\app\\utils\\postgres_connector.py:39: UserWarning: pandas only supports SQLAlchemy connectable (engine/connection) or database string URI or sqlite3 DBAPI2 connection. Other DBAPI2 objects are not tested. Please consider using SQLAlchemy.\n",
      "  df = pd.read_sql(query, conn)\n"
     ]
    },
    {
     "data": {
      "text/plain": "   sk_id_prev  sk_id_curr  months_balance  cnt_instalment  \\\n0     1803195      182943             -31            48.0   \n1     1715348      367990             -33            36.0   \n2     1784872      397406             -32            12.0   \n\n   cnt_instalment_future name_contract_status  sk_dpd  sk_dpd_def  \n0                   45.0               Active       0           0  \n1                   35.0               Active       0           0  \n2                    9.0               Active       0           0  ",
      "text/html": "<div>\n<style scoped>\n    .dataframe tbody tr th:only-of-type {\n        vertical-align: middle;\n    }\n\n    .dataframe tbody tr th {\n        vertical-align: top;\n    }\n\n    .dataframe thead th {\n        text-align: right;\n    }\n</style>\n<table border=\"1\" class=\"dataframe\">\n  <thead>\n    <tr style=\"text-align: right;\">\n      <th></th>\n      <th>sk_id_prev</th>\n      <th>sk_id_curr</th>\n      <th>months_balance</th>\n      <th>cnt_instalment</th>\n      <th>cnt_instalment_future</th>\n      <th>name_contract_status</th>\n      <th>sk_dpd</th>\n      <th>sk_dpd_def</th>\n    </tr>\n  </thead>\n  <tbody>\n    <tr>\n      <th>0</th>\n      <td>1803195</td>\n      <td>182943</td>\n      <td>-31</td>\n      <td>48.0</td>\n      <td>45.0</td>\n      <td>Active</td>\n      <td>0</td>\n      <td>0</td>\n    </tr>\n    <tr>\n      <th>1</th>\n      <td>1715348</td>\n      <td>367990</td>\n      <td>-33</td>\n      <td>36.0</td>\n      <td>35.0</td>\n      <td>Active</td>\n      <td>0</td>\n      <td>0</td>\n    </tr>\n    <tr>\n      <th>2</th>\n      <td>1784872</td>\n      <td>397406</td>\n      <td>-32</td>\n      <td>12.0</td>\n      <td>9.0</td>\n      <td>Active</td>\n      <td>0</td>\n      <td>0</td>\n    </tr>\n  </tbody>\n</table>\n</div>"
     },
     "execution_count": 42,
     "metadata": {},
     "output_type": "execute_result"
    }
   ],
   "source": [
    "%%time\n",
    "test_sql = '''\n",
    "    SELECT * FROM pos_cash_balance\n",
    "    LIMIT 3\n",
    "'''\n",
    "sql_connecter.get_df_from_query(test_sql)"
   ],
   "metadata": {
    "collapsed": false
   }
  },
  {
   "cell_type": "markdown",
   "source": [
    "## previous_application"
   ],
   "metadata": {
    "collapsed": false
   }
  },
  {
   "cell_type": "code",
   "execution_count": 49,
   "outputs": [
    {
     "name": "stdout",
     "output_type": "stream",
     "text": [
      "CPU times: total: 15.6 ms\n",
      "Wall time: 70.7 ms\n"
     ]
    }
   ],
   "source": [
    "%%time\n",
    "sql_schema_query = \"\"\"\n",
    "    DROP TABLE IF EXISTS previous_application;\n",
    "    CREATE TABLE previous_application(\n",
    "        SK_ID_PREV integer,\n",
    "        SK_ID_CURR integer,\n",
    "        NAME_CONTRACT_TYPE varchar(15),\n",
    "        AMT_ANNUITY real,\n",
    "        AMT_APPLICATION real,\n",
    "        AMT_CREDIT real,\n",
    "        AMT_DOWN_PAYMENT real,\n",
    "        AMT_GOODS_PRICE real,\n",
    "        WEEKDAY_APPR_PROCESS_START varchar(9),\n",
    "        HOUR_APPR_PROCESS_START integer,\n",
    "        FLAG_LAST_APPL_PER_CONTRACT varchar(1),\n",
    "        NFLAG_LAST_APPL_IN_DAY integer,\n",
    "        RATE_DOWN_PAYMENT real,\n",
    "        RATE_INTEREST_PRIMARY real,\n",
    "        RATE_INTEREST_PRIVILEGED real,\n",
    "        NAME_CASH_LOAN_PURPOSE varchar(48),\n",
    "        NAME_CONTRACT_STATUS varchar(12),\n",
    "        DAYS_DECISION integer,\n",
    "        NAME_PAYMENT_TYPE varchar(41),\n",
    "        CODE_REJECT_REASON varchar(6),\n",
    "        NAME_TYPE_SUITE varchar(15),\n",
    "        NAME_CLIENT_TYPE varchar(9),\n",
    "        NAME_GOODS_CATEGORY varchar(24),\n",
    "        NAME_PORTFOLIO varchar(5),\n",
    "        NAME_PRODUCT_TYPE varchar(7),\n",
    "        CHANNEL_TYPE varchar(26),\n",
    "        SELLERPLACE_AREA integer,\n",
    "        NAME_SELLER_INDUSTRY varchar(20),\n",
    "        CNT_PAYMENT real,\n",
    "        NAME_YIELD_GROUP varchar(10),\n",
    "        PRODUCT_COMBINATION varchar(30),\n",
    "        DAYS_FIRST_DRAWING real,\n",
    "        DAYS_FIRST_DUE real,\n",
    "        DAYS_LAST_DUE_1ST_VERSION real,\n",
    "        DAYS_LAST_DUE real,\n",
    "        DAYS_TERMINATION real,\n",
    "        NFLAG_INSURED_ON_APPROVAL real\n",
    "      )\n",
    "\"\"\"\n",
    "sql_connecter.send_sql_query(sql_schema_query)"
   ],
   "metadata": {
    "collapsed": false
   }
  },
  {
   "cell_type": "code",
   "execution_count": 50,
   "outputs": [
    {
     "name": "stdout",
     "output_type": "stream",
     "text": [
      "CPU times: total: 0 ns\n",
      "Wall time: 11.3 s\n"
     ]
    }
   ],
   "source": [
    "%%time\n",
    "sql_data_query = f\"\"\"\n",
    "    COPY previous_application(\n",
    "        SK_ID_PREV,\n",
    "        SK_ID_CURR,\n",
    "        NAME_CONTRACT_TYPE,\n",
    "        AMT_ANNUITY,\n",
    "        AMT_APPLICATION,\n",
    "        AMT_CREDIT,\n",
    "        AMT_DOWN_PAYMENT,\n",
    "        AMT_GOODS_PRICE,\n",
    "        WEEKDAY_APPR_PROCESS_START,\n",
    "        HOUR_APPR_PROCESS_START,\n",
    "        FLAG_LAST_APPL_PER_CONTRACT,\n",
    "        NFLAG_LAST_APPL_IN_DAY,\n",
    "        RATE_DOWN_PAYMENT,\n",
    "        RATE_INTEREST_PRIMARY,\n",
    "        RATE_INTEREST_PRIVILEGED,\n",
    "        NAME_CASH_LOAN_PURPOSE,\n",
    "        NAME_CONTRACT_STATUS,\n",
    "        DAYS_DECISION,\n",
    "        NAME_PAYMENT_TYPE,\n",
    "        CODE_REJECT_REASON,\n",
    "        NAME_TYPE_SUITE,\n",
    "        NAME_CLIENT_TYPE,\n",
    "        NAME_GOODS_CATEGORY,\n",
    "        NAME_PORTFOLIO,\n",
    "        NAME_PRODUCT_TYPE,\n",
    "        CHANNEL_TYPE,\n",
    "        SELLERPLACE_AREA,\n",
    "        NAME_SELLER_INDUSTRY,\n",
    "        CNT_PAYMENT,\n",
    "        NAME_YIELD_GROUP,\n",
    "        PRODUCT_COMBINATION,\n",
    "        DAYS_FIRST_DRAWING,\n",
    "        DAYS_FIRST_DUE,\n",
    "        DAYS_LAST_DUE_1ST_VERSION,\n",
    "        DAYS_LAST_DUE,\n",
    "        DAYS_TERMINATION,\n",
    "        NFLAG_INSURED_ON_APPROVAL\n",
    "      )\n",
    "    FROM '{data_full_path}previous_application.csv' DELIMITER ',' CSV HEADER;\n",
    "\"\"\"\n",
    "sql_connecter.send_sql_query(sql_data_query)"
   ],
   "metadata": {
    "collapsed": false
   }
  },
  {
   "cell_type": "code",
   "execution_count": 51,
   "outputs": [
    {
     "name": "stdout",
     "output_type": "stream",
     "text": [
      "CPU times: total: 0 ns\n",
      "Wall time: 75.5 ms\n"
     ]
    },
    {
     "name": "stderr",
     "output_type": "stream",
     "text": [
      "C:\\Users\\user\\Desktop\\SHIFT\\credit_scoring\\src\\app\\utils\\postgres_connector.py:39: UserWarning: pandas only supports SQLAlchemy connectable (engine/connection) or database string URI or sqlite3 DBAPI2 connection. Other DBAPI2 objects are not tested. Please consider using SQLAlchemy.\n",
      "  df = pd.read_sql(query, conn)\n"
     ]
    },
    {
     "data": {
      "text/plain": "   sk_id_prev  sk_id_curr name_contract_type  amt_annuity  amt_application  \\\n0     2030495      271877     Consumer loans     1730.430          17145.0   \n1     2802425      108129         Cash loans    25188.615         607500.0   \n2     2523466      122040         Cash loans    15060.735         112500.0   \n\n   amt_credit  amt_down_payment  amt_goods_price weekday_appr_process_start  \\\n0     17145.0               0.0          17145.0                   SATURDAY   \n1    679671.0               NaN         607500.0                   THURSDAY   \n2    136444.5               NaN         112500.0                    TUESDAY   \n\n   hour_appr_process_start  ... name_seller_industry  cnt_payment  \\\n0                       15  ...         Connectivity         12.0   \n1                       11  ...                  XNA         36.0   \n2                       11  ...                  XNA         12.0   \n\n   name_yield_group       product_combination  days_first_drawing  \\\n0            middle  POS mobile with interest            365243.0   \n1        low_action          Cash X-Sell: low            365243.0   \n2              high         Cash X-Sell: high            365243.0   \n\n  days_first_due days_last_due_1st_version  days_last_due days_termination  \\\n0          -42.0                     300.0          -42.0            -37.0   \n1         -134.0                     916.0       365243.0         365243.0   \n2         -271.0                      59.0       365243.0         365243.0   \n\n  nflag_insured_on_approval  \n0                       0.0  \n1                       1.0  \n2                       1.0  \n\n[3 rows x 37 columns]",
      "text/html": "<div>\n<style scoped>\n    .dataframe tbody tr th:only-of-type {\n        vertical-align: middle;\n    }\n\n    .dataframe tbody tr th {\n        vertical-align: top;\n    }\n\n    .dataframe thead th {\n        text-align: right;\n    }\n</style>\n<table border=\"1\" class=\"dataframe\">\n  <thead>\n    <tr style=\"text-align: right;\">\n      <th></th>\n      <th>sk_id_prev</th>\n      <th>sk_id_curr</th>\n      <th>name_contract_type</th>\n      <th>amt_annuity</th>\n      <th>amt_application</th>\n      <th>amt_credit</th>\n      <th>amt_down_payment</th>\n      <th>amt_goods_price</th>\n      <th>weekday_appr_process_start</th>\n      <th>hour_appr_process_start</th>\n      <th>...</th>\n      <th>name_seller_industry</th>\n      <th>cnt_payment</th>\n      <th>name_yield_group</th>\n      <th>product_combination</th>\n      <th>days_first_drawing</th>\n      <th>days_first_due</th>\n      <th>days_last_due_1st_version</th>\n      <th>days_last_due</th>\n      <th>days_termination</th>\n      <th>nflag_insured_on_approval</th>\n    </tr>\n  </thead>\n  <tbody>\n    <tr>\n      <th>0</th>\n      <td>2030495</td>\n      <td>271877</td>\n      <td>Consumer loans</td>\n      <td>1730.430</td>\n      <td>17145.0</td>\n      <td>17145.0</td>\n      <td>0.0</td>\n      <td>17145.0</td>\n      <td>SATURDAY</td>\n      <td>15</td>\n      <td>...</td>\n      <td>Connectivity</td>\n      <td>12.0</td>\n      <td>middle</td>\n      <td>POS mobile with interest</td>\n      <td>365243.0</td>\n      <td>-42.0</td>\n      <td>300.0</td>\n      <td>-42.0</td>\n      <td>-37.0</td>\n      <td>0.0</td>\n    </tr>\n    <tr>\n      <th>1</th>\n      <td>2802425</td>\n      <td>108129</td>\n      <td>Cash loans</td>\n      <td>25188.615</td>\n      <td>607500.0</td>\n      <td>679671.0</td>\n      <td>NaN</td>\n      <td>607500.0</td>\n      <td>THURSDAY</td>\n      <td>11</td>\n      <td>...</td>\n      <td>XNA</td>\n      <td>36.0</td>\n      <td>low_action</td>\n      <td>Cash X-Sell: low</td>\n      <td>365243.0</td>\n      <td>-134.0</td>\n      <td>916.0</td>\n      <td>365243.0</td>\n      <td>365243.0</td>\n      <td>1.0</td>\n    </tr>\n    <tr>\n      <th>2</th>\n      <td>2523466</td>\n      <td>122040</td>\n      <td>Cash loans</td>\n      <td>15060.735</td>\n      <td>112500.0</td>\n      <td>136444.5</td>\n      <td>NaN</td>\n      <td>112500.0</td>\n      <td>TUESDAY</td>\n      <td>11</td>\n      <td>...</td>\n      <td>XNA</td>\n      <td>12.0</td>\n      <td>high</td>\n      <td>Cash X-Sell: high</td>\n      <td>365243.0</td>\n      <td>-271.0</td>\n      <td>59.0</td>\n      <td>365243.0</td>\n      <td>365243.0</td>\n      <td>1.0</td>\n    </tr>\n  </tbody>\n</table>\n<p>3 rows × 37 columns</p>\n</div>"
     },
     "execution_count": 51,
     "metadata": {},
     "output_type": "execute_result"
    }
   ],
   "source": [
    "%%time\n",
    "test_sql = '''\n",
    "    SELECT * FROM previous_application\n",
    "    LIMIT 3\n",
    "'''\n",
    "sql_connecter.get_df_from_query(test_sql)"
   ],
   "metadata": {
    "collapsed": false
   }
  },
  {
   "cell_type": "markdown",
   "source": [
    "## sample_submission"
   ],
   "metadata": {
    "collapsed": false
   }
  },
  {
   "cell_type": "code",
   "execution_count": 46,
   "outputs": [
    {
     "name": "stdout",
     "output_type": "stream",
     "text": [
      "CPU times: total: 0 ns\n",
      "Wall time: 80.5 ms\n"
     ]
    }
   ],
   "source": [
    "%%time\n",
    "sql_schema_query = \"\"\"\n",
    "    DROP TABLE IF EXISTS sample_submission;\n",
    "    CREATE TABLE sample_submission(\n",
    "        SK_ID_CURR integer,\n",
    "        TARGET real\n",
    "      )\n",
    "\"\"\"\n",
    "sql_connecter.send_sql_query(sql_schema_query)"
   ],
   "metadata": {
    "collapsed": false
   }
  },
  {
   "cell_type": "code",
   "execution_count": 47,
   "outputs": [
    {
     "name": "stdout",
     "output_type": "stream",
     "text": [
      "CPU times: total: 15.6 ms\n",
      "Wall time: 104 ms\n"
     ]
    }
   ],
   "source": [
    "%%time\n",
    "sql_data_query = f\"\"\"\n",
    "    COPY sample_submission(\n",
    "        SK_ID_CURR,\n",
    "        TARGET\n",
    "      )\n",
    "    FROM '{data_full_path}sample_submission.csv' DELIMITER ',' CSV HEADER;\n",
    "\"\"\"\n",
    "sql_connecter.send_sql_query(sql_data_query)"
   ],
   "metadata": {
    "collapsed": false
   }
  },
  {
   "cell_type": "code",
   "execution_count": 48,
   "outputs": [
    {
     "name": "stdout",
     "output_type": "stream",
     "text": [
      "CPU times: total: 31.2 ms\n",
      "Wall time: 65.5 ms\n"
     ]
    },
    {
     "name": "stderr",
     "output_type": "stream",
     "text": [
      "C:\\Users\\user\\Desktop\\SHIFT\\credit_scoring\\src\\app\\utils\\postgres_connector.py:39: UserWarning: pandas only supports SQLAlchemy connectable (engine/connection) or database string URI or sqlite3 DBAPI2 connection. Other DBAPI2 objects are not tested. Please consider using SQLAlchemy.\n",
      "  df = pd.read_sql(query, conn)\n"
     ]
    },
    {
     "data": {
      "text/plain": "   sk_id_curr  target\n0      100001     0.5\n1      100005     0.5\n2      100013     0.5",
      "text/html": "<div>\n<style scoped>\n    .dataframe tbody tr th:only-of-type {\n        vertical-align: middle;\n    }\n\n    .dataframe tbody tr th {\n        vertical-align: top;\n    }\n\n    .dataframe thead th {\n        text-align: right;\n    }\n</style>\n<table border=\"1\" class=\"dataframe\">\n  <thead>\n    <tr style=\"text-align: right;\">\n      <th></th>\n      <th>sk_id_curr</th>\n      <th>target</th>\n    </tr>\n  </thead>\n  <tbody>\n    <tr>\n      <th>0</th>\n      <td>100001</td>\n      <td>0.5</td>\n    </tr>\n    <tr>\n      <th>1</th>\n      <td>100005</td>\n      <td>0.5</td>\n    </tr>\n    <tr>\n      <th>2</th>\n      <td>100013</td>\n      <td>0.5</td>\n    </tr>\n  </tbody>\n</table>\n</div>"
     },
     "execution_count": 48,
     "metadata": {},
     "output_type": "execute_result"
    }
   ],
   "source": [
    "%%time\n",
    "test_sql = '''\n",
    "    SELECT * FROM sample_submission\n",
    "    LIMIT 3\n",
    "'''\n",
    "sql_connecter.get_df_from_query(test_sql)"
   ],
   "metadata": {
    "collapsed": false
   }
  }
 ],
 "metadata": {
  "kernelspec": {
   "name": "conda-env-financial_technology_centre-py",
   "language": "python",
   "display_name": "Python [conda env:financial_technology_centre] *"
  },
  "language_info": {
   "codemirror_mode": {
    "name": "ipython",
    "version": 2
   },
   "file_extension": ".py",
   "mimetype": "text/x-python",
   "name": "python",
   "nbconvert_exporter": "python",
   "pygments_lexer": "ipython2",
   "version": "2.7.6"
  }
 },
 "nbformat": 4,
 "nbformat_minor": 0
}
