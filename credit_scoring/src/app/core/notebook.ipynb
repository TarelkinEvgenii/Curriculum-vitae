{
 "cells": [
  {
   "cell_type": "code",
   "execution_count": 1,
   "metadata": {
    "collapsed": true
   },
   "outputs": [],
   "source": [
    "import dataclasses\n",
    "import pickle\n",
    "\n",
    "import pandas as pd\n",
    "from tqdm.auto import tqdm  # for notebooks\n",
    "\n",
    "from src.app.core.api import Features\n",
    "from src.app.core.model import AdvancedModel\n",
    "\n",
    "# (добавил, чтобы мр прошёл)\n",
    "\n",
    "tqdm.pandas()"
   ]
  },
  {
   "cell_type": "code",
   "execution_count": 2,
   "outputs": [],
   "source": [
    "data = pd.read_csv('test_X.csv')\n",
    "data.set_index('SK_ID_CURR', inplace=True)"
   ],
   "metadata": {
    "collapsed": false
   }
  },
  {
   "cell_type": "markdown",
   "source": [
    "Я считаю порог _thresold = 0.3 в Simple model слишком большим (объяснение ниже)\n",
    "\n",
    "Параметры формулы для объяснения, которое последует позже\n",
    "\n",
    "sum - сколько даём\n",
    "d - вероятность дефолта (этот параметр ограничиваем _threshold)\n",
    "n - человек с таким дефолтом\n",
    "percent - процент под который даём\n",
    "\n",
    "Мне кажется, что порог очень высокий так как формула,\n",
    "чтобы банк вышел в ноль по прибыли следующая\n",
    "(-sum*d*n) + (sum*(n-d*n)*percent = 0\n",
    "\n",
    "После оптимизации параметров получаем формулу\n",
    "percent/(1+percent) - d = 0\n",
    "\n",
    "Следовательно при d = 0.3\n",
    "получаем процент переплаты 42.85% по кредиту,\n",
    "чтобы выйти в ноль для банка для такого порога\n",
    "по мне это высокий порог, хотя зависит от того насколько берут кредит\n",
    "\n",
    "Я бы сделал порог динамическим и вычислял порог в калькуляторе,\n",
    "чтобы более точно регулировать кому давать кредит, а кому не давать кредит.\n",
    "\n",
    "Вычислял бы порог в зависимости от\n",
    "1. инфляции,\n",
    "2. заработка,\n",
    "3. количества лет на текущей работе,\n",
    "4. процента по кредиту,\n",
    "5. процента ЦБ,\n",
    "6. наличие дома,\n",
    "6. и т.д.\n",
    "\n",
    "Не уверен, что в данном задании это можно делать, поэтому не делал"
   ],
   "metadata": {
    "collapsed": false
   }
  },
  {
   "cell_type": "code",
   "execution_count": 3,
   "outputs": [],
   "source": [
    "model = AdvancedModel('./catboost_model.pkl')\n",
    "with open('./catboost_model.pkl', 'rb') as pickled_model:\n",
    "    catboost = pickle.load(pickled_model)"
   ],
   "metadata": {
    "collapsed": false
   }
  },
  {
   "cell_type": "markdown",
   "source": [
    "Проверяем одинаково ли предсказывают модели"
   ],
   "metadata": {
    "collapsed": false
   }
  },
  {
   "cell_type": "code",
   "execution_count": 4,
   "outputs": [
    {
     "data": {
      "text/plain": "0.046397480553594675"
     },
     "execution_count": 4,
     "metadata": {},
     "output_type": "execute_result"
    }
   ],
   "source": [
    "model._predict_proba(Features(*data.iloc[0]))"
   ],
   "metadata": {
    "collapsed": false
   }
  },
  {
   "cell_type": "markdown",
   "source": [
    "catboost предсказание"
   ],
   "metadata": {
    "collapsed": false
   }
  },
  {
   "cell_type": "code",
   "execution_count": 5,
   "outputs": [
    {
     "data": {
      "text/plain": "0.046397480553594675"
     },
     "execution_count": 5,
     "metadata": {},
     "output_type": "execute_result"
    }
   ],
   "source": [
    "catboost.predict_proba(data.iloc[0])[1]"
   ],
   "metadata": {
    "collapsed": false
   }
  },
  {
   "cell_type": "markdown",
   "source": [
    "Как видно предсказывает модель обёрнутая и не обёрнутая одинаково, так как был возвращён порядок строчек"
   ],
   "metadata": {
    "collapsed": false
   }
  },
  {
   "cell_type": "markdown",
   "source": [
    "Модель всё предсказала верно, но может быть не идентичная конвертация из-за проблем с неймингом в датафрейме, проверим"
   ],
   "metadata": {
    "collapsed": false
   }
  },
  {
   "cell_type": "code",
   "execution_count": 6,
   "outputs": [
    {
     "name": "stdout",
     "output_type": "stream",
     "text": [
      "True\n"
     ]
    },
    {
     "name": "stderr",
     "output_type": "stream",
     "text": [
      "C:\\Users\\user\\AppData\\Local\\Temp\\ipykernel_7348\\1701032786.py:2: FutureWarning: Automatic reindexing on DataFrame vs Series comparisons is deprecated and will raise ValueError in a future version. Do `left, right = left.align(right, axis=1, copy=False)` before e.g. `left == right`\n",
      "  pd.DataFrame([dataclasses.asdict(Features(*data.iloc[0]))])[list(Features.__annotations__)] ==\n"
     ]
    }
   ],
   "source": [
    "print(all(\n",
    "    pd.DataFrame([dataclasses.asdict(Features(*data.iloc[0]))])[list(Features.__annotations__)] ==\n",
    "    data.iloc[0]))"
   ],
   "metadata": {
    "collapsed": false
   }
  },
  {
   "cell_type": "markdown",
   "source": [
    "Всё правильно конвертировали получается"
   ],
   "metadata": {
    "collapsed": false
   }
  },
  {
   "cell_type": "markdown",
   "source": [
    "Теперь можем предсказывать остальные значения, поэлеметное предсказание очень долгое (>40 минут), поэтому применим только к 500 значениям"
   ],
   "metadata": {
    "collapsed": false
   }
  },
  {
   "cell_type": "code",
   "execution_count": 7,
   "outputs": [],
   "source": [
    "small_data = data.iloc[:500]"
   ],
   "metadata": {
    "collapsed": false
   }
  },
  {
   "cell_type": "code",
   "execution_count": 8,
   "outputs": [],
   "source": [
    "catboost_preds = catboost.predict_proba(small_data)[:, 1]"
   ],
   "metadata": {
    "collapsed": false
   }
  },
  {
   "cell_type": "code",
   "execution_count": 9,
   "outputs": [
    {
     "data": {
      "text/plain": "  0%|          | 0/500 [00:00<?, ?it/s]",
      "application/vnd.jupyter.widget-view+json": {
       "version_major": 2,
       "version_minor": 0,
       "model_id": "7fc844ac7d8b4df48eff578358bf23ab"
      }
     },
     "metadata": {},
     "output_type": "display_data"
    },
    {
     "name": "stderr",
     "output_type": "stream",
     "text": [
      "C:\\Users\\user\\AppData\\Local\\Temp\\ipykernel_7348\\2720292562.py:1: SettingWithCopyWarning: \n",
      "A value is trying to be set on a copy of a slice from a DataFrame.\n",
      "Try using .loc[row_indexer,col_indexer] = value instead\n",
      "\n",
      "See the caveats in the documentation: https://pandas.pydata.org/pandas-docs/stable/user_guide/indexing.html#returning-a-view-versus-a-copy\n",
      "  small_data['result'] = small_data.progress_apply(\n"
     ]
    }
   ],
   "source": [
    "small_data['result'] = small_data.progress_apply(\n",
    "    lambda x: model.get_scoring_result(\n",
    "        Features(*x)\n",
    "    ),\n",
    "    axis=1\n",
    ")"
   ],
   "metadata": {
    "collapsed": false
   }
  },
  {
   "cell_type": "code",
   "execution_count": 10,
   "outputs": [
    {
     "name": "stderr",
     "output_type": "stream",
     "text": [
      "C:\\Users\\user\\AppData\\Local\\Temp\\ipykernel_7348\\592975944.py:1: SettingWithCopyWarning: \n",
      "A value is trying to be set on a copy of a slice from a DataFrame.\n",
      "Try using .loc[row_indexer,col_indexer] = value instead\n",
      "\n",
      "See the caveats in the documentation: https://pandas.pydata.org/pandas-docs/stable/user_guide/indexing.html#returning-a-view-versus-a-copy\n",
      "  small_data['decision'] = small_data['result'].apply(lambda x: x.decision.name)\n",
      "C:\\Users\\user\\AppData\\Local\\Temp\\ipykernel_7348\\592975944.py:2: SettingWithCopyWarning: \n",
      "A value is trying to be set on a copy of a slice from a DataFrame.\n",
      "Try using .loc[row_indexer,col_indexer] = value instead\n",
      "\n",
      "See the caveats in the documentation: https://pandas.pydata.org/pandas-docs/stable/user_guide/indexing.html#returning-a-view-versus-a-copy\n",
      "  small_data['amount'] = small_data['result'].apply(lambda x: x.amount)\n",
      "C:\\Users\\user\\AppData\\Local\\Temp\\ipykernel_7348\\592975944.py:3: SettingWithCopyWarning: \n",
      "A value is trying to be set on a copy of a slice from a DataFrame.\n",
      "Try using .loc[row_indexer,col_indexer] = value instead\n",
      "\n",
      "See the caveats in the documentation: https://pandas.pydata.org/pandas-docs/stable/user_guide/indexing.html#returning-a-view-versus-a-copy\n",
      "  small_data['proba'] = small_data['result'].apply(lambda x: x.proba)\n"
     ]
    }
   ],
   "source": [
    "small_data['decision'] = small_data['result'].apply(lambda x: x.decision.name)\n",
    "small_data['amount'] = small_data['result'].apply(lambda x: x.amount)\n",
    "small_data['proba'] = small_data['result'].apply(lambda x: x.proba)"
   ],
   "metadata": {
    "collapsed": false
   }
  },
  {
   "cell_type": "code",
   "execution_count": 11,
   "outputs": [
    {
     "data": {
      "text/plain": "     SK_ID_CURR                                             result  decision  \\\n0        100001  ScoringResult(decision=<ScoringDecision.ACCEPT...  ACCEPTED   \n1        100005  ScoringResult(decision=<ScoringDecision.ACCEPT...  ACCEPTED   \n2        100013  ScoringResult(decision=<ScoringDecision.ACCEPT...  ACCEPTED   \n3        100028  ScoringResult(decision=<ScoringDecision.ACCEPT...  ACCEPTED   \n4        100038  ScoringResult(decision=<ScoringDecision.ACCEPT...  ACCEPTED   \n..          ...                                                ...       ...   \n495      103462  ScoringResult(decision=<ScoringDecision.ACCEPT...  ACCEPTED   \n496      103473  ScoringResult(decision=<ScoringDecision.ACCEPT...  ACCEPTED   \n497      103474  ScoringResult(decision=<ScoringDecision.ACCEPT...  ACCEPTED   \n498      103475  ScoringResult(decision=<ScoringDecision.ACCEPT...  ACCEPTED   \n499      103478  ScoringResult(decision=<ScoringDecision.ACCEPT...  ACCEPTED   \n\n        amount     proba  catboost_preds  \n0     622080.0  0.046397        0.046397  \n1     356400.0  0.122031        0.122031  \n2     414720.0  0.038941        0.038941  \n3    2721600.0  0.070644        0.070644  \n4     648000.0  0.111016        0.111016  \n..         ...       ...             ...  \n495   207360.0  0.025894        0.025894  \n496   777600.0  0.062936        0.062936  \n497   907200.0  0.040137        0.040137  \n498   216000.0  0.110047        0.110047  \n499   518400.0  0.055943        0.055943  \n\n[500 rows x 6 columns]",
      "text/html": "<div>\n<style scoped>\n    .dataframe tbody tr th:only-of-type {\n        vertical-align: middle;\n    }\n\n    .dataframe tbody tr th {\n        vertical-align: top;\n    }\n\n    .dataframe thead th {\n        text-align: right;\n    }\n</style>\n<table border=\"1\" class=\"dataframe\">\n  <thead>\n    <tr style=\"text-align: right;\">\n      <th></th>\n      <th>SK_ID_CURR</th>\n      <th>result</th>\n      <th>decision</th>\n      <th>amount</th>\n      <th>proba</th>\n      <th>catboost_preds</th>\n    </tr>\n  </thead>\n  <tbody>\n    <tr>\n      <th>0</th>\n      <td>100001</td>\n      <td>ScoringResult(decision=&lt;ScoringDecision.ACCEPT...</td>\n      <td>ACCEPTED</td>\n      <td>622080.0</td>\n      <td>0.046397</td>\n      <td>0.046397</td>\n    </tr>\n    <tr>\n      <th>1</th>\n      <td>100005</td>\n      <td>ScoringResult(decision=&lt;ScoringDecision.ACCEPT...</td>\n      <td>ACCEPTED</td>\n      <td>356400.0</td>\n      <td>0.122031</td>\n      <td>0.122031</td>\n    </tr>\n    <tr>\n      <th>2</th>\n      <td>100013</td>\n      <td>ScoringResult(decision=&lt;ScoringDecision.ACCEPT...</td>\n      <td>ACCEPTED</td>\n      <td>414720.0</td>\n      <td>0.038941</td>\n      <td>0.038941</td>\n    </tr>\n    <tr>\n      <th>3</th>\n      <td>100028</td>\n      <td>ScoringResult(decision=&lt;ScoringDecision.ACCEPT...</td>\n      <td>ACCEPTED</td>\n      <td>2721600.0</td>\n      <td>0.070644</td>\n      <td>0.070644</td>\n    </tr>\n    <tr>\n      <th>4</th>\n      <td>100038</td>\n      <td>ScoringResult(decision=&lt;ScoringDecision.ACCEPT...</td>\n      <td>ACCEPTED</td>\n      <td>648000.0</td>\n      <td>0.111016</td>\n      <td>0.111016</td>\n    </tr>\n    <tr>\n      <th>...</th>\n      <td>...</td>\n      <td>...</td>\n      <td>...</td>\n      <td>...</td>\n      <td>...</td>\n      <td>...</td>\n    </tr>\n    <tr>\n      <th>495</th>\n      <td>103462</td>\n      <td>ScoringResult(decision=&lt;ScoringDecision.ACCEPT...</td>\n      <td>ACCEPTED</td>\n      <td>207360.0</td>\n      <td>0.025894</td>\n      <td>0.025894</td>\n    </tr>\n    <tr>\n      <th>496</th>\n      <td>103473</td>\n      <td>ScoringResult(decision=&lt;ScoringDecision.ACCEPT...</td>\n      <td>ACCEPTED</td>\n      <td>777600.0</td>\n      <td>0.062936</td>\n      <td>0.062936</td>\n    </tr>\n    <tr>\n      <th>497</th>\n      <td>103474</td>\n      <td>ScoringResult(decision=&lt;ScoringDecision.ACCEPT...</td>\n      <td>ACCEPTED</td>\n      <td>907200.0</td>\n      <td>0.040137</td>\n      <td>0.040137</td>\n    </tr>\n    <tr>\n      <th>498</th>\n      <td>103475</td>\n      <td>ScoringResult(decision=&lt;ScoringDecision.ACCEPT...</td>\n      <td>ACCEPTED</td>\n      <td>216000.0</td>\n      <td>0.110047</td>\n      <td>0.110047</td>\n    </tr>\n    <tr>\n      <th>499</th>\n      <td>103478</td>\n      <td>ScoringResult(decision=&lt;ScoringDecision.ACCEPT...</td>\n      <td>ACCEPTED</td>\n      <td>518400.0</td>\n      <td>0.055943</td>\n      <td>0.055943</td>\n    </tr>\n  </tbody>\n</table>\n<p>500 rows × 6 columns</p>\n</div>"
     },
     "execution_count": 11,
     "metadata": {},
     "output_type": "execute_result"
    }
   ],
   "source": [
    "pd.concat([small_data.reset_index(),\n",
    "           pd.DataFrame(catboost_preds, columns=['catboost_preds'])],\n",
    "          axis=1)[['SK_ID_CURR',\n",
    "                   'result',\n",
    "                   'decision',\n",
    "                   'amount',\n",
    "                   'proba',\n",
    "                   'catboost_preds']]"
   ],
   "metadata": {
    "collapsed": false
   }
  },
  {
   "cell_type": "markdown",
   "source": [
    "Для кеггла (ОСТОРОЖНО более 40 минут выполняется)"
   ],
   "metadata": {
    "collapsed": false
   }
  },
  {
   "cell_type": "code",
   "execution_count": 12,
   "outputs": [
    {
     "name": "stdout",
     "output_type": "stream",
     "text": [
      "Good\n"
     ]
    }
   ],
   "source": [
    "data['TARGET'] = data.apply(\n",
    "    lambda x: model._predict_proba(Features(*x)), axis=1)\n",
    "data.reset_index(inplace=True)\n",
    "data = data[['SK_ID_CURR', 'TARGET']]\n",
    "data.to_csv('./test_preds.csv', index=False)\n",
    "print('Good')"
   ],
   "metadata": {
    "collapsed": false
   }
  }
 ],
 "metadata": {
  "kernelspec": {
   "display_name": "Python 3",
   "language": "python",
   "name": "python3"
  },
  "language_info": {
   "codemirror_mode": {
    "name": "ipython",
    "version": 2
   },
   "file_extension": ".py",
   "mimetype": "text/x-python",
   "name": "python",
   "nbconvert_exporter": "python",
   "pygments_lexer": "ipython2",
   "version": "2.7.6"
  }
 },
 "nbformat": 4,
 "nbformat_minor": 0
}
