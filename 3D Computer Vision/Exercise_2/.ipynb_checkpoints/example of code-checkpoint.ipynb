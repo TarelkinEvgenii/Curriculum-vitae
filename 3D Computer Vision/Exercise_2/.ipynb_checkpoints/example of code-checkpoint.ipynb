{
 "cells": [
  {
   "cell_type": "code",
   "execution_count": null,
   "metadata": {},
   "outputs": [],
   "source": [
    "\"\"\"Authors:\n",
    "    Tarelkin Evgenii\n",
    "    Steba Oxana\"\"\""
   ]
  },
  {
   "cell_type": "code",
   "execution_count": null,
   "metadata": {},
   "outputs": [],
   "source": [
    "import os, sys\n",
    "import numpy as np"
   ]
  },
  {
   "cell_type": "code",
   "execution_count": null,
   "metadata": {},
   "outputs": [],
   "source": [
    "def project_and_draw(X, K, R, T, distortion_flag=False, distortion_params=None):\n",
    "     return x_2d"
   ]
  },
  {
   "cell_type": "code",
   "execution_count": null,
   "metadata": {},
   "outputs": [],
   "source": [
    "if __name__ == '__main__':\n",
    "    base_folder = './data/'\n",
    "\n",
    "    # Consider distorition\n",
    "    dist_flag = True\n",
    "\n",
    "    # Load the data\n",
    "    # There are 25 views/or images/ and 40 3D points per view\n",
    "    data = io.loadmat('./data/ex_1_data.mat')\n",
    "\n",
    "    # 3D points in the world coordinate system\n",
    "    X_3D = data['x_3d_w'] # shape=[25, 40, 3]\n",
    "\n",
    "    # Translation vector: as the world origin is seen from the camera coordinates\n",
    "    TVecs = data['translation_vecs'] # shape=[25, 3, 1]\n",
    "\n",
    "    # Rotation matrices: project from world to camera coordinate frame\n",
    "    RMats = data['rot_mats'] # shape=[25, 3, 3]\n",
    "\n",
    "    # five distortion parameters\n",
    "    dist_params = data['distortion_params']\n",
    "\n",
    "    # K matrix of the cameras\n",
    "    Kintr = data['k_mat'] # shape 3,3\n",
    "\n",
    "    imgs_list = [cv.imread(base_folder+str(i).zfill(5)+'.jpg') for i in range(TVecs.shape[0])]\n",
    "    imgs = np.asarray(imgs_list)\n",
    "    project_and_draw(imgs, X_3D, Kintr, RMats, TVecs, dist_flag, dist_params)"
   ]
  }
 ],
 "metadata": {
  "kernelspec": {
   "display_name": "Python 3",
   "language": "python",
   "name": "python3"
  },
  "language_info": {
   "codemirror_mode": {
    "name": "ipython",
    "version": 3
   },
   "file_extension": ".py",
   "mimetype": "text/x-python",
   "name": "python",
   "nbconvert_exporter": "python",
   "pygments_lexer": "ipython3",
   "version": "3.7.7"
  }
 },
 "nbformat": 4,
 "nbformat_minor": 4
}