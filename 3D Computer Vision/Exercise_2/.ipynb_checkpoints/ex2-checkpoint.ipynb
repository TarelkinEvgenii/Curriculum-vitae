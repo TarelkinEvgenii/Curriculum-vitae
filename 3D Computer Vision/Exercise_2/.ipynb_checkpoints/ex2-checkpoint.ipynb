{
 "cells": [
  {
   "cell_type": "code",
   "execution_count": null,
   "outputs": [],
   "source": [
    "\"\"\"Authors:\n",
    "    Tarelkin Evgenii\n",
    "    Steba Oxana\"\"\""
   ],
   "metadata": {
    "collapsed": false,
    "pycharm": {
     "name": "#%%\n"
    }
   }
  },
  {
   "cell_type": "code",
   "execution_count": 2,
   "metadata": {},
   "outputs": [],
   "source": [
    "import os, sys\n",
    "import numpy as np\n",
    "import scipy.io as io\n",
    "import math\n",
    "import re\n",
    "from numpy.linalg import svd"
   ]
  },
  {
   "cell_type": "code",
   "execution_count": 62,
   "metadata": {},
   "outputs": [],
   "source": [
    "def compute_relative_rotation(H,K):\n",
    "    #funcion of calculation Rrel\n",
    "    \n",
    "    #calcultion of inverted matrix of intrinsic parameters\n",
    "    K_inv=np.linalg.inv(K)\n",
    "    \n",
    "    #calculation of lambda and rotation matrix\n",
    "    lR=K_inv.dot(H.dot(K))\n",
    "    \n",
    "    #finding lengths of r1 and r2\n",
    "    r1_len=math.sqrt(lR[0,0]**2+lR[0,1]**2+lR[0,2]**2)\n",
    "    r2_len=math.sqrt(lR[1,0]**2+lR[1,1]**2+lR[1,2]**2)\n",
    "    \n",
    "    #calculation of lambda using r1 and r2\n",
    "    l1=r1_len/1\n",
    "    l2=r2_len/1\n",
    "    #calculation of average lambda value\n",
    "    l=(l1+l2)/2\n",
    "    \n",
    "    #calcultion of relative rotation matrix\n",
    "    Rrel=lR*(1/l)\n",
    "    print(\"\\nRelative rotation Rrel: \\n\", Rrel)\n",
    "\n",
    "    #check rotation properties\n",
    "        #det(Rel)=1\n",
    "    detR=round(np.linalg.det(Rrel),2)\n",
    "        #R^-1=R^T\n",
    "    R_inv=np.linalg.inv(Rrel)\n",
    "    R_T=Rrel.transpose()\n",
    "    for i in range (0, 3):\n",
    "        for j in range (0,3):\n",
    "            R_inv[i,j]=round(R_inv[i,j], 5)\n",
    "            R_T[i,j]=round(R_T[i,j], 5)\n",
    "        #comparison of matrices\n",
    "    eq=np.array_equal(R_inv, R_T)\n",
    "        #if (wrong)\n",
    "    if detR!=1 and eq==False:\n",
    "        #correction\n",
    "        U, W, VT = svd(Rrel)\n",
    "        \n",
    "        #calculation of new rotation matrix\n",
    "        Rnew=U.dot(VT)\n",
    "        print(\"\\nThe rotation matrix has changed. New relative rotation Rrel: \\n\", Rnew)"
   ]
  },
  {
   "cell_type": "code",
   "execution_count": 70,
   "metadata": {},
   "outputs": [],
   "source": [
    "def compute_pose(H,K):\n",
    "    K_inv=np.linalg.inv(K)\n",
    "    lRt=K_inv.dot(H)\n",
    "    \n",
    "    #rows\n",
    "    r1_len=math.sqrt(lRt[0,0]**2+lRt[0,1]**2+lRt[0,2]**2)\n",
    "    r2_len=math.sqrt(lRt[1,0]**2+lRt[1,1]**2+lRt[1,2]**2)\n",
    "    print(\"lRt: \", lRt)\n",
    "    #columns\n",
    "    #r1_len=math.sqrt(lRt[0,0]**2+lRt[1,0]**2+lRt[2,0]**2)\n",
    "    #r2_len=math.sqrt(lRt[0,1]**2+lRt[1,1]**2+lRt[2,1]**2)\n",
    "    \n",
    "    l1=r1_len/1\n",
    "    l2=r2_len/1\n",
    "    l=(l1+l2)/2\n",
    "    \n",
    "    r1=[lRt[0,0],lRt[0,1],lRt[0,2]]\n",
    "    r2=[lRt[1,0],lRt[1,1],lRt[1,2]]\n",
    "    r3=np.cross(r1,r2)\n",
    "    print(r1)\n",
    "    print(r2)\n",
    "    t=(1/l)*lRt[2]\n",
    "    R=[r1, r2, r3]\n",
    "    print(\"r3: \",r3)\n",
    "    print(\"R: \", R)\n",
    "    print(\"t: \", t)\n",
    "    #RT=[R,t]\n",
    "    #print(R)\n",
    "    #print(t)"
   ]
  },
  {
   "cell_type": "code",
   "execution_count": 71,
   "metadata": {},
   "outputs": [
    {
     "name": "stdout",
     "output_type": "stream",
     "text": [
      "\n",
      "H1:\n",
      "\n",
      "Relative rotation Rrel: \n",
      " [[ 4.32000119e-07  0.00000000e+00 -9.99999725e-01]\n",
      " [ 2.40000066e-08  1.00000028e+00  7.37640930e-07]\n",
      " [ 9.99999275e-01  0.00000000e+00 -4.32000119e-07]]\n",
      "\n",
      "H2:\n",
      "\n",
      "Relative rotation Rrel: \n",
      " [[-0.04593007  0.99735346 -0.016609  ]\n",
      " [-1.00065241 -0.03312166  0.02241795]\n",
      " [-0.00220144 -0.01420931  1.04688155]]\n",
      "\n",
      "The rotation matrix has changed. New relative rotation Rrel: \n",
      " [[-0.03947376  0.99921982 -0.00125161]\n",
      " [-0.999175   -0.03945997  0.00960327]\n",
      " [ 0.00954639  0.00162965  0.9999531 ]]\n",
      "lRt:  [[ 1.33724182e+03 -4.07272727e-04 -1.34276403e+05]\n",
      " [-1.63764727e-13  7.85454545e-04 -6.70546058e+04]\n",
      " [-1.00277000e-29  1.33724000e+03 -3.12112000e+03]]\n",
      "[1337.2418181818182, -0.0004072727273267606, -134276.40343272727]\n",
      "[-1.6376472727272725e-13, 0.0007854545454081676, -67054.60584727272]\n",
      "r3:  [1.32777524e+02 8.96682230e+07 1.05034266e+00]\n",
      "R:  [[1337.2418181818182, -0.0004072727273267606, -134276.40343272727], [-1.6376472727272725e-13, 0.0007854545454081676, -67054.60584727272], array([1.32777524e+02, 8.96682230e+07, 1.05034266e+00])]\n",
      "t:  [-9.96107694e-35  1.32835551e-02 -3.10038358e-02]\n",
      "[[5500    0 2376]\n",
      " [   0 5500 1632]\n",
      " [   0    0    1]]\n"
     ]
    }
   ],
   "source": [
    "if __name__ == '__main__':\n",
    "    base_folder = './data/'\n",
    "\n",
    "    # Load the data\n",
    "    data = io.loadmat('./data/ex2.mat')\n",
    " \n",
    "    #ax from the K matrix\n",
    "    ax = data['alpha_x']\n",
    "    \n",
    "    #skew parameter\n",
    "    s = data['s']\n",
    "    \n",
    "    #x0 from K matrix\n",
    "    x0 = data['x_0']\n",
    "    \n",
    "    #ay from the K matrix\n",
    "    ay = data['alpha_y']\n",
    "    \n",
    "    #y0 rom K matrix\n",
    "    y0 = data['y_0']\n",
    "    \n",
    "    # K matrix of the cameras\n",
    "    Kintr = np.array([[ax[0,0], s[0,0], x0[0,0]],\n",
    "             [0,ay[0,0],y0[0,0]],\n",
    "             [0,0,1]])\n",
    "    \n",
    "    # H homograpies\n",
    "    H1=data['H1']\n",
    "    H2=data['H2']\n",
    "    H3=data['H3']\n",
    "    print(\"\\nH1:\\n\")\n",
    "    compute_relative_rotation(H1, Kintr)\n",
    "    print(\"\\nH2:\\n\")\n",
    "    compute_relative_rotation(H2, Kintr)\n",
    "    compute_pose(H3, Kintr)\n",
    "    print(Kintr)"
   ]
  },
  {
   "cell_type": "code",
   "execution_count": 68,
   "metadata": {},
   "outputs": [],
   "source": [
    "\n",
    "if __name__ == '__main__':\n",
    "    base_folder = './data/'\n",
    "\n",
    "    # Load the data\n",
    "    data = io.loadmat('./data/ex2.mat')\n",
    "    "
   ]
  },
  {
   "cell_type": "code",
   "execution_count": 69,
   "metadata": {},
   "outputs": [
    {
     "data": {
      "text/plain": [
       "{'__header__': b'MATLAB 5.0 MAT-file Platform: posix, Created on: Tue Dec  5 15:24:20 2017',\n",
       " '__version__': '1.0',\n",
       " '__globals__': [],\n",
       " 'H2': array([[-4.68504e-02,  9.90566e-01,  8.89185e+02],\n",
       "        [-1.00065e+00, -3.73135e-02,  4.26905e+03],\n",
       "        [-4.00000e-07, -2.58182e-06,  1.05136e+00]]),\n",
       " 'H3': array([[ 7.35483e+06,  3.17728e+06, -7.45936e+08],\n",
       "        [-9.00706e-10,  2.18238e+06, -3.73894e+08],\n",
       "        [-1.00277e-29,  1.33724e+03, -3.12112e+03]]),\n",
       " 'H1': array([[ 4.32000e-01,  0.00000e+00, -6.52643e+03],\n",
       "        [ 2.96727e-01,  1.00000e+00, -2.33702e+03],\n",
       "        [ 1.81818e-04,  0.00000e+00, -4.32000e-01]]),\n",
       " 'y_0': array([[1632]], dtype=int64),\n",
       " 's': array([[0]], dtype=int64),\n",
       " 'x_0': array([[2376]], dtype=int64),\n",
       " 'alpha_x': array([[5500]], dtype=int64),\n",
       " 'alpha_y': array([[5500]], dtype=int64)}"
      ]
     },
     "execution_count": 69,
     "metadata": {},
     "output_type": "execute_result"
    }
   ],
   "source": [
    "data"
   ]
  },
  {
   "cell_type": "code",
   "execution_count": null,
   "metadata": {},
   "outputs": [],
   "source": []
  }
 ],
 "metadata": {
  "kernelspec": {
   "display_name": "Python 3",
   "language": "python",
   "name": "python3"
  },
  "language_info": {
   "codemirror_mode": {
    "name": "ipython",
    "version": 3
   },
   "file_extension": ".py",
   "mimetype": "text/x-python",
   "name": "python",
   "nbconvert_exporter": "python",
   "pygments_lexer": "ipython3",
   "version": "3.7.7"
  }
 },
 "nbformat": 4,
 "nbformat_minor": 4
}